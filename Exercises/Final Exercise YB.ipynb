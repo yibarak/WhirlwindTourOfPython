{
 "cells": [
  {
   "cell_type": "markdown",
   "id": "1be4ca61-a9a1-4c7c-8a09-00c819f264ac",
   "metadata": {
    "tags": []
   },
   "source": [
    "# Final Exercise - Python for Data Science"
   ]
  },
  {
   "cell_type": "markdown",
   "id": "a4fc407d-2bab-48f5-bf79-6070f59a9825",
   "metadata": {},
   "source": [
    "## Python Basics"
   ]
  },
  {
   "cell_type": "markdown",
   "id": "02307169-7541-4209-84f6-7ddc2e48ed1d",
   "metadata": {},
   "source": [
    "### strings"
   ]
  },
  {
   "cell_type": "markdown",
   "id": "8d8d4e71-7673-4fd5-95b0-a647f1a44803",
   "metadata": {},
   "source": [
    "#### Contact two strings"
   ]
  },
  {
   "cell_type": "code",
   "execution_count": 1,
   "id": "3d4d5d41-5c40-4178-85dd-f09ac771e1a7",
   "metadata": {},
   "outputs": [],
   "source": [
    "s1 = 'abcde'\n",
    "s2 = '12345'\n",
    "expected = 'abcde12345'"
   ]
  },
  {
   "cell_type": "code",
   "execution_count": 2,
   "id": "2452ded1-d82f-43fa-9332-8d50f9d94b90",
   "metadata": {},
   "outputs": [
    {
     "data": {
      "text/plain": [
       "'abcde12345'"
      ]
     },
     "execution_count": 2,
     "metadata": {},
     "output_type": "execute_result"
    }
   ],
   "source": [
    "s1 + s2"
   ]
  },
  {
   "cell_type": "markdown",
   "id": "0712e85a-bf3f-462b-9283-1cb034b10dbe",
   "metadata": {},
   "source": [
    "#### Write a function that contacts the first half of string 1 to the second half of string 2"
   ]
  },
  {
   "cell_type": "markdown",
   "id": "8263aa4f-371a-45ed-870e-06603f660f58",
   "metadata": {},
   "source": [
    "Use a function `mix_halves()` to solve the general case (any two strings)"
   ]
  },
  {
   "cell_type": "markdown",
   "id": "b88b1942-208f-43fc-b2da-f87a0804d3b0",
   "metadata": {},
   "source": [
    "For example:"
   ]
  },
  {
   "cell_type": "code",
   "execution_count": 3,
   "id": "bd3f9f3b-ece2-4a03-8f20-d349712a7604",
   "metadata": {},
   "outputs": [],
   "source": [
    "s1 = 'abcdef'\n",
    "s2 = '123456'\n",
    "expected = 'abc456'"
   ]
  },
  {
   "cell_type": "code",
   "execution_count": 4,
   "id": "5133f212-dcc6-4fea-bbcd-5e4c573bd80e",
   "metadata": {},
   "outputs": [],
   "source": [
    "def mix_halves(str1, str2):\n",
    "    return str1[:len(str1)//2] + str2[-len(str2)//2:]"
   ]
  },
  {
   "cell_type": "code",
   "execution_count": 5,
   "id": "38f45f19-3e68-4148-886f-c022f9992812",
   "metadata": {},
   "outputs": [
    {
     "data": {
      "text/plain": [
       "'abc456'"
      ]
     },
     "execution_count": 5,
     "metadata": {},
     "output_type": "execute_result"
    }
   ],
   "source": [
    "mix_halves(s1, s2)"
   ]
  },
  {
   "cell_type": "markdown",
   "id": "8e65ad5d-9f43-462a-86ee-a7bc1dfa3e7b",
   "metadata": {},
   "source": [
    "#### Construct a string with characters from another string that are present at an even index number"
   ]
  },
  {
   "cell_type": "code",
   "execution_count": 6,
   "id": "77a728ab-2e6d-4afa-91b2-c365e5a091ad",
   "metadata": {},
   "outputs": [],
   "source": [
    "s = '1a2b3c4d'\n",
    "expected = 'abcd'"
   ]
  },
  {
   "cell_type": "code",
   "execution_count": 7,
   "id": "373f17d5-b4ae-4591-a6bb-652431aa9a34",
   "metadata": {},
   "outputs": [
    {
     "data": {
      "text/plain": [
       "'abcd'"
      ]
     },
     "execution_count": 7,
     "metadata": {},
     "output_type": "execute_result"
    }
   ],
   "source": [
    "newstr = ''\n",
    "for i in range(len(s)):\n",
    "     if i % 2 == 1:\n",
    "        newstr += (s[i])\n",
    "\n",
    "newstr"
   ]
  },
  {
   "cell_type": "markdown",
   "id": "08f4f2e3-dfb6-43a2-993a-90d4bac6c9da",
   "metadata": {},
   "source": [
    "#### Arrange string characters such that lowercase letters should come first"
   ]
  },
  {
   "cell_type": "markdown",
   "id": "0954a710-5261-43c5-bef2-fa8a998b29ec",
   "metadata": {},
   "source": [
    "Given string contains a combination of the lower and upper case letters. Write a program to arrange the characters of a string so that all lowercase letters should come first."
   ]
  },
  {
   "cell_type": "code",
   "execution_count": 8,
   "id": "8d12d734-780c-4158-899b-0ed7436893f2",
   "metadata": {},
   "outputs": [],
   "source": [
    "s1 = 'PyNaTive'\n",
    "expected = 'yaivePNT'"
   ]
  },
  {
   "cell_type": "code",
   "execution_count": 10,
   "id": "eed33401-6e53-4d78-a5e0-be66dab6ad54",
   "metadata": {},
   "outputs": [
    {
     "data": {
      "text/plain": [
       "'yaivePNT'"
      ]
     },
     "execution_count": 10,
     "metadata": {},
     "output_type": "execute_result"
    }
   ],
   "source": [
    "str1 = ''\n",
    "str2 = ''\n",
    "for c in s1:\n",
    "    if c.islower():\n",
    "        str1 += c\n",
    "    else:\n",
    "        str2 += c\n",
    "\n",
    "str1 + str2\n"
   ]
  },
  {
   "cell_type": "markdown",
   "id": "f9569bf1-9673-4a1c-9b35-68f386544c93",
   "metadata": {},
   "source": [
    "#### Count all letters, digits, and special symbols from a given string"
   ]
  },
  {
   "cell_type": "code",
   "execution_count": 11,
   "id": "801f88ca-c591-456e-886a-412ed0ed6b89",
   "metadata": {},
   "outputs": [],
   "source": [
    "s1 = \"P@#yn26at^&i5ve\""
   ]
  },
  {
   "cell_type": "markdown",
   "id": "ed575e73-3a21-4fd4-b549-e0f4b8e7dca9",
   "metadata": {},
   "source": [
    "Hint: use `isalpha()` and a similar method for digit (can you guess its name?)"
   ]
  },
  {
   "cell_type": "markdown",
   "id": "b0a445dd-d872-452a-9585-da15756144b0",
   "metadata": {},
   "source": [
    "Expected Outcome:\n",
    "\n",
    "```\n",
    "Total counts of chars, digits, and symbols \n",
    "Chars = 8 \n",
    "Digits = 3 \n",
    "Symbol = 4\n"
   ]
  },
  {
   "cell_type": "code",
   "execution_count": 12,
   "id": "1175e96d-f3c2-4690-8c2c-9c2889b21513",
   "metadata": {},
   "outputs": [
    {
     "name": "stdout",
     "output_type": "stream",
     "text": [
      "Total counts of chars, digits, and symbols\n",
      "Chars = 8\n",
      "Digits = 3\n",
      "Symbol = 4\n",
      "\n"
     ]
    }
   ],
   "source": [
    "Chars = 0\n",
    "Digits = 0\n",
    "Symbol = 0\n",
    "for c in s1:\n",
    "    if c.isalpha():\n",
    "        Chars += 1\n",
    "    elif c.isdigit():\n",
    "        Digits += 1\n",
    "    else:\n",
    "        Symbol += 1\n",
    "\n",
    "print(f'''Total counts of chars, digits, and symbols\n",
    "Chars = {Chars}\n",
    "Digits = {Digits}\n",
    "Symbol = {Symbol}\n",
    "''')\n",
    "    "
   ]
  },
  {
   "cell_type": "markdown",
   "id": "146d5603-ddf4-4e84-8325-8cc15af329d1",
   "metadata": {
    "tags": []
   },
   "source": [
    "#### String characters balance Test"
   ]
  },
  {
   "cell_type": "markdown",
   "id": "460b992e-270c-4f72-8289-840741409654",
   "metadata": {},
   "source": [
    "Write a program to check if two strings are balanced. For example, strings s1 and s2 are balanced if all the characters in the s1 are present in s2. The character’s position doesn’t matter."
   ]
  },
  {
   "cell_type": "markdown",
   "id": "d8b4203e-8c62-4ea7-b27d-c5bb9f390516",
   "metadata": {},
   "source": [
    "Example of balanced strings:\n",
    "```python\n",
    "s1 = \"Yn\"\n",
    "s2 = \"PYnative\"\n",
    "```"
   ]
  },
  {
   "cell_type": "markdown",
   "id": "0ea95b42-7db1-438c-9cd8-a63bf0374266",
   "metadata": {
    "tags": []
   },
   "source": [
    "Example of unbalanced strings:\n",
    "```python\n",
    "s1 = \"Ynf\"\n",
    "s2 = \"PYnative\"\n",
    "```"
   ]
  },
  {
   "cell_type": "code",
   "execution_count": 13,
   "id": "56b1b562-f15f-48e1-a9a1-5ea24f50498e",
   "metadata": {},
   "outputs": [],
   "source": [
    "def is_balanced(str1, str2):\n",
    "    for c in str1:\n",
    "        if str2.find(c) == -1:\n",
    "            return False\n",
    "    return True"
   ]
  },
  {
   "cell_type": "code",
   "execution_count": 14,
   "id": "f97cb639-59ff-4143-ac39-3e1f0ca1d122",
   "metadata": {},
   "outputs": [
    {
     "data": {
      "text/plain": [
       "True"
      ]
     },
     "execution_count": 14,
     "metadata": {},
     "output_type": "execute_result"
    }
   ],
   "source": [
    "s1 = \"Yn\"\n",
    "s2 = \"PYnative\"\n",
    "is_balanced(s1, s2)"
   ]
  },
  {
   "cell_type": "code",
   "execution_count": 15,
   "id": "deeccd1f-500b-4507-8354-64e829193486",
   "metadata": {},
   "outputs": [
    {
     "data": {
      "text/plain": [
       "False"
      ]
     },
     "execution_count": 15,
     "metadata": {},
     "output_type": "execute_result"
    }
   ],
   "source": [
    "s1 = \"Ynf\"\n",
    "s2 = \"PYnative\"\n",
    "is_balanced(s1, s2)"
   ]
  },
  {
   "cell_type": "markdown",
   "id": "029b14bf-7334-4ca7-83c6-16d1221f79c2",
   "metadata": {
    "tags": []
   },
   "source": [
    "#### Write a program to count occurrences of all characters within a string"
   ]
  },
  {
   "cell_type": "markdown",
   "id": "a4b8a886-c5da-41a6-9966-a1054bc62877",
   "metadata": {
    "tags": []
   },
   "source": [
    "For example, for `str1 = \"Apple\"` the answer should be `{'A': 1, 'p': 2, 'l': 1, 'e': 1}`"
   ]
  },
  {
   "cell_type": "code",
   "execution_count": 16,
   "id": "13da1b7d-0972-4023-a550-9d9f82a02049",
   "metadata": {},
   "outputs": [],
   "source": [
    "def dict_srting(str):\n",
    "    dict = {}\n",
    "    for c in str:\n",
    "        if dict.get(c) is None:\n",
    "            dict[c] = 1\n",
    "        else:\n",
    "            dict[c] += 1\n",
    "    return dict        "
   ]
  },
  {
   "cell_type": "code",
   "execution_count": 17,
   "id": "b709827b-db34-4486-a746-45f3ead804cc",
   "metadata": {},
   "outputs": [
    {
     "data": {
      "text/plain": [
       "{'A': 1, 'p': 2, 'l': 1, 'e': 1}"
      ]
     },
     "execution_count": 17,
     "metadata": {},
     "output_type": "execute_result"
    }
   ],
   "source": [
    "dict_srting('Apple')"
   ]
  },
  {
   "cell_type": "markdown",
   "id": "6640301b-e88a-4dca-8a13-b3114f5fc8a0",
   "metadata": {},
   "source": [
    "#### Split a string on hyphens"
   ]
  },
  {
   "cell_type": "code",
   "execution_count": 18,
   "id": "02b60ab8-880a-4932-9d60-bfa3e7da2312",
   "metadata": {},
   "outputs": [],
   "source": [
    "s1 = 'Emma-is-a-data-scientist'\n",
    "expected = ['Emma', 'is', 'a', 'data', 'scientist']"
   ]
  },
  {
   "cell_type": "code",
   "execution_count": 19,
   "id": "4a8d719f-d0fb-491f-9122-2f3822119493",
   "metadata": {},
   "outputs": [
    {
     "data": {
      "text/plain": [
       "['Emma', 'is', 'a', 'data', 'scientist']"
      ]
     },
     "execution_count": 19,
     "metadata": {},
     "output_type": "execute_result"
    }
   ],
   "source": [
    "s1.split('-')"
   ]
  },
  {
   "cell_type": "markdown",
   "id": "a819c27c-7eb2-4fb6-a352-2bf1adce2389",
   "metadata": {},
   "source": [
    "#### Remove empty strings from a list of strings"
   ]
  },
  {
   "cell_type": "code",
   "execution_count": 20,
   "id": "f908098d-afc5-4faa-ba6e-2db10d0dbecf",
   "metadata": {
    "tags": []
   },
   "outputs": [],
   "source": [
    "str_list = [\"Emma\", \"Jon\", \"\", \"Kelly\", None, \"Eric\", \"\"]\n",
    "expected = [\"Emma\", \"Jon\", \"Kelly\", \"Eric\"]"
   ]
  },
  {
   "cell_type": "code",
   "execution_count": 21,
   "id": "8f817111-4588-430f-8cde-4d93c549b681",
   "metadata": {},
   "outputs": [
    {
     "name": "stdout",
     "output_type": "stream",
     "text": [
      "['Emma', 'Jon', 'Kelly', 'Eric']\n"
     ]
    }
   ],
   "source": [
    "for i in range(len(str_list), 0, -1):\n",
    "    if str_list[i-1] is None or str_list[i-1] == \"\":\n",
    "        str_list.pop(i-1)\n",
    "\n",
    "print(str_list)"
   ]
  },
  {
   "cell_type": "markdown",
   "id": "b00c64ab-a8ea-4d47-8e57-5ddf0a72a9fa",
   "metadata": {},
   "source": [
    "#### Find words with both alphabets and numbers"
   ]
  },
  {
   "cell_type": "code",
   "execution_count": 22,
   "id": "8a335ab9-9b08-4156-9960-a2597de2e6f6",
   "metadata": {
    "tags": []
   },
   "outputs": [],
   "source": [
    "str1 = \"Emma25 is Data scientist50 and AI Expert\"\n",
    "expected = ['Emma25', 'scientist50']"
   ]
  },
  {
   "cell_type": "markdown",
   "id": "16058557-1dc7-420a-b346-9e3f4a3e9fd6",
   "metadata": {},
   "source": [
    "Hint: read about the `any()` and `all()` python function, they are very handy."
   ]
  },
  {
   "cell_type": "code",
   "execution_count": 23,
   "id": "477c4e5c-de55-45c7-936c-2e39390875e7",
   "metadata": {},
   "outputs": [
    {
     "name": "stdout",
     "output_type": "stream",
     "text": [
      "['Emma25', 'scientist50']\n"
     ]
    }
   ],
   "source": [
    "l = []\n",
    "for word in str1.split():\n",
    "    is_alpha = False\n",
    "    is_digit = False\n",
    "    for char in word:\n",
    "        if char.isalpha():\n",
    "            is_alpha = True\n",
    "        elif char.isdigit():\n",
    "            is_digit = True\n",
    "    if is_alpha and is_digit:\n",
    "        l.append(word)\n",
    "        \n",
    "print(l)"
   ]
  },
  {
   "cell_type": "markdown",
   "id": "1cea518a-91e1-4bec-8970-45d1257715db",
   "metadata": {},
   "source": [
    "#### Replace each special symbol with # in the following string"
   ]
  },
  {
   "cell_type": "code",
   "execution_count": 24,
   "id": "affc71f5-9e82-45fb-b5dd-8275df4af167",
   "metadata": {},
   "outputs": [],
   "source": [
    "s1 = '/*Jon is @developer & musician!!'\n",
    "expected = '##Jon is #developer # musician##'"
   ]
  },
  {
   "cell_type": "code",
   "execution_count": 25,
   "id": "19961c09-c375-49d7-beac-ae6096f1064d",
   "metadata": {},
   "outputs": [
    {
     "data": {
      "text/plain": [
       "'##Jon is #developer # musician##'"
      ]
     },
     "execution_count": 25,
     "metadata": {},
     "output_type": "execute_result"
    }
   ],
   "source": [
    "s1.replace('/', '#').replace('*','#').replace('@','#').replace('&','#').replace('!','#')\n",
    "   "
   ]
  },
  {
   "cell_type": "markdown",
   "id": "592cbb58-3931-4048-b844-8f032735c4bb",
   "metadata": {
    "tags": []
   },
   "source": [
    "#### Remove first n characters from a string:\n",
    "\n",
    "Write a program to remove characters from a string starting from zero up to n and return a new string.\n",
    "\n",
    "For example:\n",
    "\n",
    "remove_chars(\"pynative\", 4) so output must be tive. Here we need to remove first four characters from a string.\n",
    "remove_chars(\"pynative\", 2) so output must be native. Here we need to remove first two characters from a string."
   ]
  },
  {
   "cell_type": "code",
   "execution_count": 26,
   "id": "a05f043e-9242-456b-9064-5ad62b243cf5",
   "metadata": {},
   "outputs": [],
   "source": [
    "def remove_char(str, n):\n",
    "    if n >= len(str):\n",
    "        return ''\n",
    "    else:\n",
    "        return str[n:len(s1)]"
   ]
  },
  {
   "cell_type": "code",
   "execution_count": 27,
   "id": "f6c60135-2276-4bb2-b011-f1f7a863cbe2",
   "metadata": {},
   "outputs": [
    {
     "data": {
      "text/plain": [
       "'tive'"
      ]
     },
     "execution_count": 27,
     "metadata": {},
     "output_type": "execute_result"
    }
   ],
   "source": [
    "remove_char(\"pynative\", 4)"
   ]
  },
  {
   "cell_type": "markdown",
   "id": "35719b43-d77e-43ce-9205-515c115edc16",
   "metadata": {},
   "source": [
    "#### Return the count of a given substring from a string"
   ]
  },
  {
   "cell_type": "code",
   "execution_count": 28,
   "id": "0a051846-2713-46c3-9d6a-6182b3a6af7b",
   "metadata": {},
   "outputs": [],
   "source": [
    "s = 'you and me and your parents are more than you'\n",
    "subs = 'you'"
   ]
  },
  {
   "cell_type": "code",
   "execution_count": 29,
   "id": "125c6019-a225-48d3-842c-bc9cb248757e",
   "metadata": {},
   "outputs": [],
   "source": [
    "expected_result = 3"
   ]
  },
  {
   "cell_type": "code",
   "execution_count": 33,
   "id": "e68c528f-6b71-42c5-9b1c-cee6e26784cb",
   "metadata": {},
   "outputs": [
    {
     "name": "stdout",
     "output_type": "stream",
     "text": [
      "3\n"
     ]
    }
   ],
   "source": [
    "res = [i for i in range(len(s)) if s.startswith(subs, i)]\n",
    "print(len(res))"
   ]
  },
  {
   "cell_type": "markdown",
   "id": "8eacde7e-59d3-48e3-8883-390831d4208f",
   "metadata": {},
   "source": [
    "#### Print the following pattern"
   ]
  },
  {
   "cell_type": "markdown",
   "id": "8808f549-3cc9-4629-ab67-c28153daed00",
   "metadata": {},
   "source": [
    "```python\n",
    "1 \n",
    "2 2 \n",
    "3 3 3 \n",
    "4 4 4 4 \n",
    "5 5 5 5 5\n",
    "```"
   ]
  },
  {
   "cell_type": "code",
   "execution_count": 34,
   "id": "3d336b7c-618b-4fe0-9bdc-4bf0eac8be4f",
   "metadata": {},
   "outputs": [
    {
     "name": "stdout",
     "output_type": "stream",
     "text": [
      "1 \n",
      "2 2 \n",
      "3 3 3 \n",
      "4 4 4 4 \n",
      "5 5 5 5 5 \n"
     ]
    }
   ],
   "source": [
    "for i in range(1, 6):\n",
    "    line = ''\n",
    "    for j in range(i):\n",
    "        line += str(i) + ' '\n",
    "    print(line)\n",
    "    "
   ]
  },
  {
   "cell_type": "markdown",
   "id": "b1605caa-7fec-438b-8f55-00e70d4aefda",
   "metadata": {},
   "source": [
    "### Numbers"
   ]
  },
  {
   "cell_type": "markdown",
   "id": "2112bead-96cb-4e8c-ad36-80b72813794e",
   "metadata": {},
   "source": [
    "#### Write a function called `exponent(base, exp)` that returns an int value of base raises to the power of exp."
   ]
  },
  {
   "cell_type": "markdown",
   "id": "20d7558a-68d9-4fda-9f89-7ffac05791df",
   "metadata": {
    "tags": []
   },
   "source": [
    "for example:\n",
    "\n",
    "```python\n",
    "base = 5\n",
    "exponent = 4\n",
    "\n",
    "5 raises to the power of 4 is: 625 \n",
    "i.e. (5 *5 * 5 *5 = 625)\n",
    "```"
   ]
  },
  {
   "cell_type": "code",
   "execution_count": 35,
   "id": "e42ed840-e02a-47c8-9710-602db917a8df",
   "metadata": {},
   "outputs": [],
   "source": [
    "def exponent(base, exp):\n",
    "    s1 = str(base)\n",
    "    val = base\n",
    "    for i in range(exp-1):\n",
    "        val *= base\n",
    "        s1 += \" *\" + str(base)\n",
    "    print(f'''{base} raises to the power of {exp} is: {val} \n",
    "i.e. ({s1} = {val})\n",
    "''')"
   ]
  },
  {
   "cell_type": "code",
   "execution_count": 36,
   "id": "09e61158-e0ca-45ca-aaed-cc82bfd0135a",
   "metadata": {},
   "outputs": [
    {
     "name": "stdout",
     "output_type": "stream",
     "text": [
      "10 raises to the power of 7 is: 10000000 \n",
      "i.e. (10 *10 *10 *10 *10 *10 *10 = 10000000)\n",
      "\n"
     ]
    }
   ],
   "source": [
    "exponent(10, 7)"
   ]
  },
  {
   "cell_type": "markdown",
   "id": "16e50a0b-2760-423d-8604-7ce768d1f2de",
   "metadata": {},
   "source": [
    "#### Count the total number of digits in a number"
   ]
  },
  {
   "cell_type": "markdown",
   "id": "79fa17af-fc07-497b-8068-d063e41491e3",
   "metadata": {},
   "source": [
    "For example, the number is 75869, so the output should be 5."
   ]
  },
  {
   "cell_type": "code",
   "execution_count": 37,
   "id": "c2abeaa9-ad02-4e2f-988f-63d29fdcb8b4",
   "metadata": {},
   "outputs": [],
   "source": [
    "def count_digit(num):\n",
    "    return(len(str(num)))"
   ]
  },
  {
   "cell_type": "code",
   "execution_count": 38,
   "id": "5dad00d2-03e4-4a10-8120-25f40982ffe0",
   "metadata": {},
   "outputs": [
    {
     "data": {
      "text/plain": [
       "5"
      ]
     },
     "execution_count": 38,
     "metadata": {},
     "output_type": "execute_result"
    }
   ],
   "source": [
    "count_digit(43543)"
   ]
  },
  {
   "cell_type": "markdown",
   "id": "8b130152-2a72-4473-881f-943f8bd1c4e0",
   "metadata": {},
   "source": [
    "#### Show that 0.1 + 0.2 == 0.3"
   ]
  },
  {
   "cell_type": "code",
   "execution_count": 39,
   "id": "cb280ac4-f421-460e-a312-5e97279d17ec",
   "metadata": {},
   "outputs": [],
   "source": [
    "# Your solution here\n",
    "\n",
    "# This won't work:\n",
    "# assert 0.1 + 0.2 == 0.3"
   ]
  },
  {
   "cell_type": "code",
   "execution_count": 40,
   "id": "fc9da189-ab8f-4df1-956f-347060c0bfe5",
   "metadata": {},
   "outputs": [],
   "source": [
    "a, b, c = 0.1, 0.2, 0.3"
   ]
  },
  {
   "cell_type": "code",
   "execution_count": 41,
   "id": "2753e3f5-00f4-4e01-8b67-3d24969ec6af",
   "metadata": {},
   "outputs": [],
   "source": [
    "assert round(a + b, 2) == round(c, 2)"
   ]
  },
  {
   "cell_type": "markdown",
   "id": "327183e0-19f5-401a-ba36-899b440530b5",
   "metadata": {},
   "source": [
    "#### Integer reversion"
   ]
  },
  {
   "cell_type": "markdown",
   "id": "bf23d0cd-7763-4958-b092-fdddf532d989",
   "metadata": {},
   "source": [
    "Reverse a given integer. For example if the input of the algorithm is 1234 then the output should be 4321."
   ]
  },
  {
   "cell_type": "code",
   "execution_count": 42,
   "id": "d2901a7d-d262-4a93-8d95-76d044397769",
   "metadata": {},
   "outputs": [],
   "source": [
    "i = 12340"
   ]
  },
  {
   "cell_type": "code",
   "execution_count": 43,
   "id": "435d4157-6fbc-4432-b2e7-cb0644004265",
   "metadata": {},
   "outputs": [],
   "source": [
    "# This time without converting to string...\n",
    "def my_int_reverse(i):\n",
    "    n = 0\n",
    "    new_i = 0\n",
    "    while i // 10 > 0 or i % 10 > 0:\n",
    "        new_i = new_i * 10 + (i % 10) \n",
    "        i = i // 10\n",
    "        n += 1\n",
    "    return(new_i)"
   ]
  },
  {
   "cell_type": "code",
   "execution_count": 44,
   "id": "255e89c7-dde8-4118-914e-6df6f24e1494",
   "metadata": {},
   "outputs": [
    {
     "name": "stdout",
     "output_type": "stream",
     "text": [
      "4321\n"
     ]
    }
   ],
   "source": [
    "assert(my_int_reverse(i) == 4321)\n",
    "print(my_int_reverse(i))"
   ]
  },
  {
   "cell_type": "markdown",
   "id": "66d42630-bd9d-4140-b127-d697a0c5d4b2",
   "metadata": {},
   "source": [
    "### Datas structures & Loops"
   ]
  },
  {
   "cell_type": "markdown",
   "id": "6228b0f3-5f16-470a-970b-72361cc1a5a8",
   "metadata": {},
   "source": [
    "#### Create a new list from a two list using the following condition"
   ]
  },
  {
   "cell_type": "markdown",
   "id": "3295fd22-eac0-4a49-b0ec-abb8f69e84c5",
   "metadata": {},
   "source": [
    "Given a two list of numbers, write a program to create a new list such that the new list should contain odd numbers from the first list and even numbers from the second list.  \n",
    "Solve via:\n",
    "* Looping\n",
    "* List comprehension"
   ]
  },
  {
   "cell_type": "code",
   "execution_count": 45,
   "id": "34325440-f114-415d-bb39-24a95f48ebe8",
   "metadata": {},
   "outputs": [],
   "source": [
    "list1 = [10, 20, 25, 30, 35]\n",
    "list2 = [40, 45, 60, 75, 90]"
   ]
  },
  {
   "cell_type": "markdown",
   "id": "21946874-492e-420f-87f8-8620fa80bbd7",
   "metadata": {},
   "source": [
    "Expected Output:\n",
    "\n",
    "`result list: [25, 35, 40, 60, 90]`"
   ]
  },
  {
   "cell_type": "code",
   "execution_count": 46,
   "id": "b70654ad-0e76-46a4-882b-0bfb535e08dc",
   "metadata": {},
   "outputs": [
    {
     "name": "stdout",
     "output_type": "stream",
     "text": [
      "result list: [25, 35, 40, 60, 90]\n"
     ]
    }
   ],
   "source": [
    "# Via looping:\n",
    "list3 = []\n",
    "for i in list1:\n",
    "    if i % 2 == 1:\n",
    "        list3.append(i)\n",
    "\n",
    "for i in list2:\n",
    "    if i % 2 == 0:\n",
    "        list3.append(i)\n",
    "        \n",
    "print(f\"result list: {list3}\")"
   ]
  },
  {
   "cell_type": "code",
   "execution_count": 47,
   "id": "8beb63fb-8207-4116-bacb-ec2bfc989afa",
   "metadata": {},
   "outputs": [
    {
     "name": "stdout",
     "output_type": "stream",
     "text": [
      "result list: [25, 35, 40, 60, 90]\n"
     ]
    }
   ],
   "source": [
    "# Via List Comprehension\n",
    "list4 = [i for i in list1 if i % 2 ==  1] + [i for i in list2 if i % 2 == 0]\n",
    "\n",
    "print(f\"result list: {list4}\")"
   ]
  },
  {
   "cell_type": "markdown",
   "id": "59ff829d-a54b-4eb7-a9b5-2b8864ae0c37",
   "metadata": {},
   "source": [
    "#### Print list in reverse order using a loop"
   ]
  },
  {
   "cell_type": "markdown",
   "id": "fe468afd-e6ed-4036-a513-eab25e555cde",
   "metadata": {
    "tags": []
   },
   "source": [
    "Use a loop without using list reversal. For example:\n",
    "```python\n",
    "list1 = [10, 20, 30, 40, 50]\n",
    "[Output]:\n",
    "    50\n",
    "    40\n",
    "    30\n",
    "    20\n",
    "    10\n",
    "```"
   ]
  },
  {
   "cell_type": "code",
   "execution_count": 48,
   "id": "23c82c70-a854-4bb1-944e-fec0860f9aa2",
   "metadata": {},
   "outputs": [
    {
     "name": "stdout",
     "output_type": "stream",
     "text": [
      "50\n",
      "40\n",
      "30\n",
      "20\n",
      "10\n"
     ]
    }
   ],
   "source": [
    "list1 = [10, 20, 30, 40, 50]\n",
    "for i in range(len(list1)):\n",
    "    print(list1[-i-1])"
   ]
  },
  {
   "cell_type": "markdown",
   "id": "1e990d23-f68f-4c50-a582-08add9c1d712",
   "metadata": {},
   "source": [
    "#### Find the intersection (common) of two sets and remove those elements from the first set"
   ]
  },
  {
   "cell_type": "code",
   "execution_count": 49,
   "id": "190d023f-f3fd-4c2d-866c-4fcc25504c17",
   "metadata": {},
   "outputs": [],
   "source": [
    "first_set = {23, 42, 65, 57, 78, 83, 29}\n",
    "second_set = {57, 83, 29, 67, 73, 43, 48}"
   ]
  },
  {
   "cell_type": "markdown",
   "id": "f5ecdf05-69fd-49f9-9daf-59f519b3f513",
   "metadata": {},
   "source": [
    "expected output:\n",
    "```\n",
    "Intersection is  {57, 83, 29}\n",
    "First Set after removing common element  {65, 42, 78, 23}\n",
    "```"
   ]
  },
  {
   "cell_type": "code",
   "execution_count": 50,
   "id": "8f03ce90-422e-4e83-be73-720e1dfb46f0",
   "metadata": {},
   "outputs": [
    {
     "name": "stdout",
     "output_type": "stream",
     "text": [
      "Intersection is {57, 83, 29}\n",
      "First Set after removing common element {65, 42, 78, 23}\n"
     ]
    }
   ],
   "source": [
    "intersection_set = second_set.intersection(first_set)\n",
    "first_set_removed = first_set.difference(second_set)\n",
    "\n",
    "print(f\"\"\"Intersection is {intersection_set}\n",
    "First Set after removing common element {first_set_removed}\"\"\")"
   ]
  },
  {
   "cell_type": "markdown",
   "id": "7b2e8df9-eca7-42c6-bc08-c17aa7fa6dcf",
   "metadata": {},
   "source": [
    "#### Union two sets"
   ]
  },
  {
   "cell_type": "code",
   "execution_count": 51,
   "id": "74432c50-ffc7-4f31-9d13-53f38a2c5933",
   "metadata": {},
   "outputs": [],
   "source": [
    "first_set = {23, 42, 65, 57, 78, 83, 29}\n",
    "second_set = {57, 83, 29, 67, 73, 43, 48}\n",
    "expected = {23, 29, 42, 43, 48, 57, 65, 67, 73, 78, 83}"
   ]
  },
  {
   "cell_type": "code",
   "execution_count": 52,
   "id": "74159055-4213-4660-94c8-32f0f285b0aa",
   "metadata": {},
   "outputs": [
    {
     "data": {
      "text/plain": [
       "{23, 29, 42, 43, 48, 57, 65, 67, 73, 78, 83}"
      ]
     },
     "execution_count": 52,
     "metadata": {},
     "output_type": "execute_result"
    }
   ],
   "source": [
    "first_set.union(second_set)"
   ]
  },
  {
   "cell_type": "markdown",
   "id": "b830386e-5a23-4026-8f58-633570cdf080",
   "metadata": {},
   "source": [
    "#### Checks if one set is a subset or superset of another set. If found, delete all elements from that set"
   ]
  },
  {
   "cell_type": "markdown",
   "id": "fe2ebccd-3e5e-459e-bf43-f653e7595a39",
   "metadata": {},
   "source": [
    "For example:"
   ]
  },
  {
   "cell_type": "code",
   "execution_count": 53,
   "id": "670410b7-f1e4-48ce-aae6-292d3d5229d4",
   "metadata": {},
   "outputs": [],
   "source": [
    "first_set = {27, 43, 34}\n",
    "second_set = {34, 93, 22, 27, 43, 53, 48}"
   ]
  },
  {
   "cell_type": "markdown",
   "id": "60e28c50-a8bf-4e17-b912-1ad226c99ace",
   "metadata": {},
   "source": [
    "```\n",
    "\n",
    "First set is subset of second set - True\n",
    "Second set is subset of First set -  False\n",
    "\n",
    "First set is Super set of second set -  False\n",
    "Second set is Super set of First set -  True\n",
    "\n",
    "First Set  set()\n",
    "Second Set  {67, 73, 43, 48, 83, 57, 29}\n",
    "```"
   ]
  },
  {
   "cell_type": "code",
   "execution_count": 54,
   "id": "663aaaeb-689d-4412-a865-88a7e6706d71",
   "metadata": {},
   "outputs": [
    {
     "name": "stdout",
     "output_type": "stream",
     "text": [
      "First Set {27, 34, 43, 78}\n",
      "Second Set set()\n"
     ]
    }
   ],
   "source": [
    "first_set = {27, 43, 34, 78}\n",
    "second_set = {27, 34}\n",
    "\n",
    "if first_set.issubset(second_set):\n",
    "    first_set.clear()\n",
    "elif first_set.issuperset(second_set):\n",
    "    second_set.clear()\n",
    "    \n",
    "print(f\"\"\"First Set {first_set}\n",
    "Second Set {second_set}\"\"\")"
   ]
  },
  {
   "cell_type": "markdown",
   "id": "5be24295-1db3-41e1-a860-4288d4af8cce",
   "metadata": {},
   "source": [
    "#### Add a list of elements to a set"
   ]
  },
  {
   "cell_type": "code",
   "execution_count": 55,
   "id": "9861acce-d859-4da2-b9ec-16922ade97ea",
   "metadata": {},
   "outputs": [],
   "source": [
    "sample_set = {\"Yellow\", \"Orange\", \"Black\"}\n",
    "sample_list = [\"Blue\", \"Green\", \"Red\"]"
   ]
  },
  {
   "cell_type": "markdown",
   "id": "7eb957d4-c6db-4d46-bc54-e05580fc56da",
   "metadata": {},
   "source": [
    "Expected Outcome (yours might be in a different order): `{'Green', 'Yellow', 'Black', 'Orange', 'Red', 'Blue'}`"
   ]
  },
  {
   "cell_type": "code",
   "execution_count": 56,
   "id": "13f2d808-6aff-48fa-90b2-3c87d81b42cc",
   "metadata": {},
   "outputs": [
    {
     "data": {
      "text/plain": [
       "{'Black', 'Blue', 'Green', 'Orange', 'Red', 'Yellow'}"
      ]
     },
     "execution_count": 56,
     "metadata": {},
     "output_type": "execute_result"
    }
   ],
   "source": [
    "sample_set.union(set(sample_list))"
   ]
  },
  {
   "cell_type": "markdown",
   "id": "7821f84c-c297-4c81-9a1a-3cd250592c80",
   "metadata": {},
   "source": [
    "#### Update the first set with items that don’t exist in the second set"
   ]
  },
  {
   "cell_type": "code",
   "execution_count": 57,
   "id": "b85392b6-69b2-4fd8-8206-eff50a18355a",
   "metadata": {},
   "outputs": [],
   "source": [
    "set1 = {10, 20, 30}\n",
    "set2 = {20, 40, 50}"
   ]
  },
  {
   "cell_type": "markdown",
   "id": "d3a4b0f5-2441-49e5-9d62-45b494ea1d26",
   "metadata": {},
   "source": [
    "Expected Outcome: `set1 {10, 30}`"
   ]
  },
  {
   "cell_type": "code",
   "execution_count": 58,
   "id": "55e8cca1-5f93-466a-b27e-408da9754ec5",
   "metadata": {},
   "outputs": [
    {
     "name": "stdout",
     "output_type": "stream",
     "text": [
      "{10, 30}\n"
     ]
    }
   ],
   "source": [
    "set1.difference_update(set2)\n",
    "print(set1)"
   ]
  },
  {
   "cell_type": "markdown",
   "id": "d0460ff4-3019-4996-a272-d8be53b0307d",
   "metadata": {},
   "source": [
    "####  Get Only unique items from two sets"
   ]
  },
  {
   "cell_type": "code",
   "execution_count": 59,
   "id": "a7122d3e-cf42-4d63-940f-7880a6cae2dd",
   "metadata": {},
   "outputs": [],
   "source": [
    "set1 = {10, 20, 30, 40, 50}\n",
    "set2 = {30, 40, 50, 60, 70}"
   ]
  },
  {
   "cell_type": "markdown",
   "id": "3ea92ab4-7e85-44bb-b868-410a67ecc4a3",
   "metadata": {},
   "source": [
    "Expected Outcome: `{70, 40, 10, 50, 20, 60, 30}`"
   ]
  },
  {
   "cell_type": "code",
   "execution_count": 60,
   "id": "7d1cc53a-2732-4b5f-b33a-4c8fb55aa1ec",
   "metadata": {},
   "outputs": [
    {
     "name": "stdout",
     "output_type": "stream",
     "text": [
      "{70, 40, 10, 50, 20, 60, 30}\n"
     ]
    }
   ],
   "source": [
    "set3 = set1.union(set2)\n",
    "print(set3)"
   ]
  },
  {
   "cell_type": "markdown",
   "id": "ab39535b-dfd0-4ee6-ab06-cba7a4bd8344",
   "metadata": {},
   "source": [
    "####  Iterate a given list and check if a given element exists as a key’s value in a dictionary. If not, delete it from the list"
   ]
  },
  {
   "cell_type": "markdown",
   "id": "2b65ed0e-40a6-4489-9e3f-8f62b5d3321e",
   "metadata": {},
   "source": [
    "For example:"
   ]
  },
  {
   "cell_type": "code",
   "execution_count": 61,
   "id": "b75a1f16-ec97-405d-885f-655051066ef3",
   "metadata": {},
   "outputs": [],
   "source": [
    "roll_number = [47, 64, 69, 37, 76, 83, 95, 97]\n",
    "sample_dict = {'Jhon':47, 'Emma':69, 'Kelly':76, 'Jason':97}"
   ]
  },
  {
   "cell_type": "markdown",
   "id": "d7f41a49-4157-4d35-8677-0c11a3526161",
   "metadata": {},
   "source": [
    "Expected output: `After removing unwanted elements from list [47, 69, 76, 97]`"
   ]
  },
  {
   "cell_type": "code",
   "execution_count": 62,
   "id": "5a3f62f5-0a34-45e8-97cd-e1f937d6f2e6",
   "metadata": {},
   "outputs": [
    {
     "name": "stdout",
     "output_type": "stream",
     "text": [
      "[47, 69, 76, 95, 97]\n"
     ]
    }
   ],
   "source": [
    "for i in roll_number:\n",
    "    if i not in sample_dict.values():\n",
    "        roll_number.remove(i)\n",
    "print(roll_number)"
   ]
  },
  {
   "cell_type": "markdown",
   "id": "54b5ef3b-25e9-431c-a047-d7ebdfdcdf76",
   "metadata": {},
   "source": [
    "#### Get all values from the dictionary and add them to a list but don’t add duplicates"
   ]
  },
  {
   "cell_type": "code",
   "execution_count": 63,
   "id": "b495f598-9b31-456c-880c-0ba9de8bec82",
   "metadata": {},
   "outputs": [],
   "source": [
    "speed = {'jan': 47, 'feb': 52, 'march': 47, 'April': 44, 'May': 52, 'June': 53, 'july': 54, 'Aug': 44, 'Sept': 54}"
   ]
  },
  {
   "cell_type": "markdown",
   "id": "fcb40d39-afbe-4f86-ab5d-b7ab694cc86c",
   "metadata": {},
   "source": [
    "Expected Outcome: `[47, 52, 44, 53, 54]`"
   ]
  },
  {
   "cell_type": "code",
   "execution_count": 64,
   "id": "d0d096ca-0ace-4e77-9399-3c3c1977cb9d",
   "metadata": {},
   "outputs": [
    {
     "name": "stdout",
     "output_type": "stream",
     "text": [
      "[44, 47, 52, 53, 54]\n"
     ]
    }
   ],
   "source": [
    "list1 = []\n",
    "for i in set(speed.values()):\n",
    "    list1.append(i)\n",
    "\n",
    "print(list1)"
   ]
  },
  {
   "cell_type": "markdown",
   "id": "381e1886-3967-4c13-b948-076e06d00098",
   "metadata": {},
   "source": [
    "#### Convert two lists into a dictionary"
   ]
  },
  {
   "cell_type": "code",
   "execution_count": 65,
   "id": "501ccca6-d79c-4c19-b8e1-098b309b7c98",
   "metadata": {},
   "outputs": [],
   "source": [
    "keys = ['Ten', 'Twenty', 'Thirty']\n",
    "values = [10, 20, 30]"
   ]
  },
  {
   "cell_type": "markdown",
   "id": "e308118a-5201-41cd-8bf1-f6e5bf11ac25",
   "metadata": {},
   "source": [
    "Expected Outcome: `{'Ten': 10, 'Twenty': 20, 'Thirty': 30}`"
   ]
  },
  {
   "cell_type": "markdown",
   "id": "01badd46-8153-4c98-bb79-d9604bfe028f",
   "metadata": {},
   "source": [
    "Hint: use `zip()` and dict comprehension"
   ]
  },
  {
   "cell_type": "code",
   "execution_count": 66,
   "id": "d1ba6d29-d45d-46e7-9439-1d96c6ea74a1",
   "metadata": {},
   "outputs": [
    {
     "data": {
      "text/plain": [
       "{'Ten': 10, 'Twenty': 20, 'Thirty': 30}"
      ]
     },
     "execution_count": 66,
     "metadata": {},
     "output_type": "execute_result"
    }
   ],
   "source": [
    "d = dict(zip(keys, values))\n",
    "d"
   ]
  },
  {
   "cell_type": "markdown",
   "id": "cf288ee4-fd14-4df3-902c-2fb6863f2ba1",
   "metadata": {},
   "source": [
    "#### Merge two Python dictionaries into one"
   ]
  },
  {
   "cell_type": "code",
   "execution_count": 67,
   "id": "90984d60-c432-401f-8e16-e78ea21f70a3",
   "metadata": {},
   "outputs": [],
   "source": [
    "dict1 = {'Ten': 10, 'Twenty': 20, 'Thirty': 30}\n",
    "dict2 = {'Thirty': 30, 'Fourty': 40, 'Fifty': 50}"
   ]
  },
  {
   "cell_type": "markdown",
   "id": "bd0f6d3a-fde8-4e91-a7b7-16e28ca2c7e3",
   "metadata": {},
   "source": [
    "Expected Outcome: `{'Ten': 10, 'Twenty': 20, 'Thirty': 30, 'Fourty': 40, 'Fifty': 50}`"
   ]
  },
  {
   "cell_type": "markdown",
   "id": "70d8485c-24fd-46f7-b27f-ffa4fe301196",
   "metadata": {},
   "source": [
    "Hints: use `.copy()` and `.update()` method of dict. "
   ]
  },
  {
   "cell_type": "code",
   "execution_count": 68,
   "id": "ce4b6b46-473c-47d8-8018-f8956e7a28b5",
   "metadata": {},
   "outputs": [
    {
     "data": {
      "text/plain": [
       "{'Ten': 10, 'Twenty': 20, 'Thirty': 30, 'Fourty': 40, 'Fifty': 50}"
      ]
     },
     "execution_count": 68,
     "metadata": {},
     "output_type": "execute_result"
    }
   ],
   "source": [
    "dict1.update(dict2.copy())\n",
    "dict1"
   ]
  },
  {
   "cell_type": "markdown",
   "id": "bc513fdd-416a-4e2e-9c07-1711afe55d0f",
   "metadata": {},
   "source": [
    "#### Print the value of key ‘history’ from the below dict"
   ]
  },
  {
   "cell_type": "code",
   "execution_count": 69,
   "id": "bf1a9de4-b996-4767-a7c0-1dcd5e097b0a",
   "metadata": {},
   "outputs": [],
   "source": [
    "sampleDict = {\n",
    "    \"class\": {\n",
    "        \"student\": {\n",
    "            \"name\": \"Mike\",\n",
    "            \"marks\": {\n",
    "                \"physics\": 70,\n",
    "                \"history\": 80\n",
    "            }\n",
    "        }\n",
    "    }\n",
    "}"
   ]
  },
  {
   "cell_type": "markdown",
   "id": "4a95d9b8-ddbc-41cb-92d4-f14d53055425",
   "metadata": {},
   "source": [
    "Expected Outcome: `80`"
   ]
  },
  {
   "cell_type": "code",
   "execution_count": 70,
   "id": "ce935819-1828-491e-bf8d-f7af7938076e",
   "metadata": {},
   "outputs": [
    {
     "data": {
      "text/plain": [
       "80"
      ]
     },
     "execution_count": 70,
     "metadata": {},
     "output_type": "execute_result"
    }
   ],
   "source": [
    "sampleDict['class']['student']['marks']['history']"
   ]
  },
  {
   "cell_type": "markdown",
   "id": "2628eb40-5076-4946-ad67-aa6b1dfd8d0d",
   "metadata": {},
   "source": [
    "#### Delete a list of keys from a dictionary"
   ]
  },
  {
   "cell_type": "code",
   "execution_count": 71,
   "id": "ab95c867-7d92-48c1-84ce-55e0e34b7398",
   "metadata": {},
   "outputs": [],
   "source": [
    "sample_dict = {\n",
    "    \"name\": \"Kelly\",\n",
    "    \"age\": 25,\n",
    "    \"salary\": 8000,\n",
    "    \"city\": \"New york\"\n",
    "}\n",
    "\n",
    "# Keys to remove\n",
    "keys = [\"name\", \"salary\"]"
   ]
  },
  {
   "cell_type": "markdown",
   "id": "cc98df57-5e00-41a5-8d5a-efdf7a935283",
   "metadata": {},
   "source": [
    "Expected Outcome: `{'city': 'New york', 'age': 25}`"
   ]
  },
  {
   "cell_type": "code",
   "execution_count": 72,
   "id": "f7f50b29-70df-4a3d-b9c7-4cd363243a65",
   "metadata": {},
   "outputs": [
    {
     "data": {
      "text/plain": [
       "{'age': 25, 'city': 'New york'}"
      ]
     },
     "execution_count": 72,
     "metadata": {},
     "output_type": "execute_result"
    }
   ],
   "source": [
    "for i in keys:\n",
    "    sample_dict.pop(i)\n",
    "    \n",
    "sample_dict"
   ]
  },
  {
   "cell_type": "markdown",
   "id": "ec0d3bf6-2046-4a78-87ae-4c14b5ab7085",
   "metadata": {},
   "source": [
    "#### Check if a key exists in a dictionary"
   ]
  },
  {
   "cell_type": "code",
   "execution_count": 73,
   "id": "92fc9e47-767c-456e-8bc3-e2f8bf050d94",
   "metadata": {},
   "outputs": [],
   "source": [
    "sample_dict = {'a': 100, 'b': 200, 'c': 300}\n",
    "key = 'a'"
   ]
  },
  {
   "cell_type": "markdown",
   "id": "87ec9ac1-d2f9-4a8c-9604-a3fce1971431",
   "metadata": {},
   "source": [
    "Expected Outcome: `a present in a dict`"
   ]
  },
  {
   "cell_type": "code",
   "execution_count": 74,
   "id": "0749ed92-8f0e-43fb-96ec-848f3fb57bcc",
   "metadata": {
    "tags": []
   },
   "outputs": [
    {
     "name": "stdout",
     "output_type": "stream",
     "text": [
      "a present in a dict\n"
     ]
    }
   ],
   "source": [
    "if key in sample_dict.keys():\n",
    "    print(f'{key} present in a dict')\n",
    "else:\n",
    "    print(f'{key} not present in a dict')"
   ]
  },
  {
   "cell_type": "markdown",
   "id": "ac2aab51-6413-4507-b39d-cb941e3058fe",
   "metadata": {},
   "source": [
    "#### Check if a key exists in a dictionary"
   ]
  },
  {
   "cell_type": "code",
   "execution_count": 75,
   "id": "b361ce28-be2d-4a55-a041-eb9ebbba74ce",
   "metadata": {
    "tags": []
   },
   "outputs": [],
   "source": [
    "sample_dict = {'a': 100, 'b': 200, 'c': 300}\n",
    "val = 200"
   ]
  },
  {
   "cell_type": "markdown",
   "id": "ff8e9948-4868-4eda-8b74-e7361c790125",
   "metadata": {
    "tags": []
   },
   "source": [
    "Expected Outcome: `200 present in a dict`"
   ]
  },
  {
   "cell_type": "code",
   "execution_count": 76,
   "id": "f2b1c80d-8130-4cb8-9cef-0d5a8ba24eeb",
   "metadata": {
    "tags": []
   },
   "outputs": [
    {
     "name": "stdout",
     "output_type": "stream",
     "text": [
      "200 present in a dict\n"
     ]
    }
   ],
   "source": [
    "if val in sample_dict.values():\n",
    "    print(f'{val} present in a dict')\n",
    "else:\n",
    "    print(f'{val} not present in a dict')"
   ]
  },
  {
   "cell_type": "markdown",
   "id": "a5c09ca8-b826-4427-9b32-a95cf63325b8",
   "metadata": {},
   "source": [
    "#### Unpack the tuple into 4 variables"
   ]
  },
  {
   "cell_type": "code",
   "execution_count": 77,
   "id": "0fde611d-151b-4bbd-999c-87cad77004af",
   "metadata": {},
   "outputs": [],
   "source": [
    "tuple1 = (10, 20, 30, 40)"
   ]
  },
  {
   "cell_type": "markdown",
   "id": "3f0667e5-2675-41be-a0bb-049a58cc93bf",
   "metadata": {},
   "source": [
    "Expected Outcome:\n",
    "```\n",
    "tuple1 = (10, 20, 30, 40)\n",
    "# Your code\n",
    "print(a) # should print 10\n",
    "print(b) # should print 20\n",
    "print(c) # should print 30\n",
    "print(d) # should print 40\n",
    "```"
   ]
  },
  {
   "cell_type": "code",
   "execution_count": 78,
   "id": "ec77b40b-2812-4f42-a9c0-ec946b097b37",
   "metadata": {},
   "outputs": [
    {
     "name": "stdout",
     "output_type": "stream",
     "text": [
      "10\n",
      "20\n",
      "30\n",
      "40\n"
     ]
    }
   ],
   "source": [
    "a, b, c, d = tuple1\n",
    "\n",
    "print(a)\n",
    "print(b)\n",
    "print(c)\n",
    "print(d)"
   ]
  },
  {
   "cell_type": "markdown",
   "id": "c0db25e9-e68b-49e5-871a-ddf413cae80b",
   "metadata": {},
   "source": [
    "#### Swap two tuples"
   ]
  },
  {
   "cell_type": "code",
   "execution_count": 79,
   "id": "d8907449-faaa-4a98-8586-d08e3b7c5e3e",
   "metadata": {},
   "outputs": [],
   "source": [
    "tuple1 = (11, 22)\n",
    "tuple2 = (99, 88)"
   ]
  },
  {
   "cell_type": "markdown",
   "id": "a532c5f4-59d9-49b3-bcce-9b9497417d32",
   "metadata": {},
   "source": [
    "Expected Outcome:\n",
    "```\n",
    "tuple1: (99, 88)\n",
    "tuple2: (11, 22)\n",
    "```"
   ]
  },
  {
   "cell_type": "code",
   "execution_count": 80,
   "id": "8aa2c757-bc8b-4c57-a40f-cd08e13e6b8f",
   "metadata": {},
   "outputs": [
    {
     "name": "stdout",
     "output_type": "stream",
     "text": [
      "tuple1: (99, 88)\n",
      "tuple2: (11, 22)\n"
     ]
    }
   ],
   "source": [
    "tuple3 = tuple2\n",
    "tuple2 = tuple1\n",
    "tuple1 = tuple3\n",
    "print(f\"tuple1: {tuple1}\")\n",
    "print(f\"tuple2: {tuple2}\")"
   ]
  },
  {
   "cell_type": "markdown",
   "id": "63384bac-bc96-4e58-a61a-963277cef81c",
   "metadata": {},
   "source": [
    "#### Sort a tuple of tuples by 2nd item"
   ]
  },
  {
   "cell_type": "code",
   "execution_count": 81,
   "id": "720ec0a5-5ac3-4237-a2cf-1d1235f2c068",
   "metadata": {},
   "outputs": [],
   "source": [
    "tuple1 = (('a', 23),('b', 37),('c', 11), ('d',29))"
   ]
  },
  {
   "cell_type": "markdown",
   "id": "ad2a6e5e-063c-4137-8d83-94fe24657c37",
   "metadata": {},
   "source": [
    "Expected Outcome: `(('c', 11), ('a', 23), ('d', 29), ('b', 37))`\n"
   ]
  },
  {
   "cell_type": "code",
   "execution_count": 82,
   "id": "2e1a559a-13eb-4d2f-93c7-8499f3a5ec01",
   "metadata": {},
   "outputs": [
    {
     "data": {
      "text/plain": [
       "[('c', 11), ('a', 23), ('d', 29), ('b', 37)]"
      ]
     },
     "execution_count": 82,
     "metadata": {},
     "output_type": "execute_result"
    }
   ],
   "source": [
    "sorted(tuple1, key=lambda x:x[1])"
   ]
  },
  {
   "cell_type": "markdown",
   "id": "7524ee25-c6a9-4d12-b142-544d2c0e37a7",
   "metadata": {},
   "source": [
    "#### Check if all items in the tuple are the same"
   ]
  },
  {
   "cell_type": "code",
   "execution_count": 83,
   "id": "dad693a4-e8c4-4ecb-9635-7e165b1a5c6a",
   "metadata": {},
   "outputs": [],
   "source": [
    "tuple1 = (45, 45, 45, 45)"
   ]
  },
  {
   "cell_type": "markdown",
   "id": "8ce3d576-88a7-4bf6-90eb-ed9ca2c07c25",
   "metadata": {},
   "source": [
    "Hint: use `all()`"
   ]
  },
  {
   "cell_type": "code",
   "execution_count": 84,
   "id": "f7938c57-d368-40d0-a8b2-949082ba6b17",
   "metadata": {},
   "outputs": [
    {
     "data": {
      "text/plain": [
       "True"
      ]
     },
     "execution_count": 84,
     "metadata": {},
     "output_type": "execute_result"
    }
   ],
   "source": [
    "all(map(lambda x :x == tuple1[0], tuple1))   "
   ]
  },
  {
   "cell_type": "markdown",
   "id": "2d96727e-5d24-4fab-832a-4d50d9c712ce",
   "metadata": {},
   "source": [
    "### Functions"
   ]
  },
  {
   "cell_type": "markdown",
   "id": "471ff48a-0613-463c-acda-623732dd42b6",
   "metadata": {},
   "source": [
    "#### Create a function with variable length of arguments"
   ]
  },
  {
   "cell_type": "markdown",
   "id": "3b4e772b-75db-4350-9636-509f089cba52",
   "metadata": {},
   "source": [
    "Write a program to create function func1() to accept a variable length of arguments and print their value.  \n",
    "**Note**: Create a function in such a way that we can pass any number of arguments to this function, and the function should process them and display each argument’s value."
   ]
  },
  {
   "cell_type": "markdown",
   "id": "cbf586de-ea44-4403-b6ee-177782015db7",
   "metadata": {},
   "source": [
    "Expected output:"
   ]
  },
  {
   "cell_type": "markdown",
   "id": "4e697986-5bfb-4254-89bb-cfe08cb79449",
   "metadata": {},
   "source": [
    "```python\n",
    "# call function with 3 arguments\n",
    "func1(20, 40, 60)\n",
    "\n",
    "Printing values\n",
    "20\n",
    "40\n",
    "60\n",
    "\n",
    "# call function with 2 arguments\n",
    "func1(80, 100)\n",
    "\n",
    "Printing values\n",
    "80\n",
    "100\n"
   ]
  },
  {
   "cell_type": "code",
   "execution_count": 85,
   "id": "e7d98700-a571-452e-b5df-73dcf3989f1d",
   "metadata": {},
   "outputs": [
    {
     "name": "stdout",
     "output_type": "stream",
     "text": [
      "435\n",
      "4\n",
      "45\n",
      "5\n",
      "4\n",
      "ggg\n"
     ]
    }
   ],
   "source": [
    "def func1(*args):\n",
    "    for i in args:\n",
    "        print(i)\n",
    "\n",
    "func1(435,4,45,5,4,'ggg')"
   ]
  },
  {
   "cell_type": "markdown",
   "id": "641e7a53-7eac-4451-9938-ef35f523ae40",
   "metadata": {},
   "source": [
    "#### Return multiple values from a function"
   ]
  },
  {
   "cell_type": "markdown",
   "id": "d0851de5-d8d9-40b2-a9be-2a4441111c37",
   "metadata": {},
   "source": [
    "Write a program to create function `calculation()` such that it can accept two variables and calculate addition and subtraction. Also, **it must return both addition and subtraction in a single return call**."
   ]
  },
  {
   "cell_type": "markdown",
   "id": "fb7c5b08-8625-419b-9942-e3347340f1bc",
   "metadata": {},
   "source": [
    "For example:\n",
    "```python\n",
    "def calculation(a, b):\n",
    "    # Your Code\n",
    "\n",
    "res = calculation(40, 10)\n",
    "print(res)\n",
    "50, 30\n",
    "```"
   ]
  },
  {
   "cell_type": "code",
   "execution_count": 86,
   "id": "4992969f-4321-4de0-a156-782cf6e52d3d",
   "metadata": {},
   "outputs": [
    {
     "name": "stdout",
     "output_type": "stream",
     "text": [
      "(50, 30)\n"
     ]
    }
   ],
   "source": [
    "def calculation(a, b):\n",
    "    return a+b, a-b\n",
    "\n",
    "res = calculation(40, 10)\n",
    "print(res)"
   ]
  },
  {
   "cell_type": "markdown",
   "id": "1163445f-6532-4c78-a679-ad49083ecafb",
   "metadata": {},
   "source": [
    "#### Create a function with a default argument"
   ]
  },
  {
   "cell_type": "markdown",
   "id": "192628ec-ad11-446d-a076-e5d781398de4",
   "metadata": {},
   "source": [
    "Write a program to create a function show_employee() using the following conditions.\n",
    "\n",
    "* It should accept the employee’s name and salary and display both.\n",
    "* If the salary is missing in the function call then assign default value 9000 to salary"
   ]
  },
  {
   "cell_type": "markdown",
   "id": "d6b521ff-69db-4412-bf0f-bb0cf894e8ed",
   "metadata": {},
   "source": [
    "For example, if:\n",
    "```python  \n",
    "showEmployee(\"Ben\", 12000)\n",
    "showEmployee(\"Jessa\")\n",
    "```\n",
    "Then the expected output is:\n",
    "```python\n",
    "Name: Ben salary: 12000\n",
    "Name: Jessa salary: 9000\n",
    "```"
   ]
  },
  {
   "cell_type": "code",
   "execution_count": 87,
   "id": "af3acb88-0d25-42ec-8f75-264248c3059b",
   "metadata": {},
   "outputs": [],
   "source": [
    "def showEmployee(worker, salary = 9000):\n",
    "    print(f\"Name: {worker} Salary: {salary}\")"
   ]
  },
  {
   "cell_type": "code",
   "execution_count": 88,
   "id": "8c6b4edf-7cab-40a0-9a29-c11a43bfeefd",
   "metadata": {},
   "outputs": [
    {
     "name": "stdout",
     "output_type": "stream",
     "text": [
      "Name: Ben Salary: 12000\n",
      "Name: Jessa Salary: 9000\n"
     ]
    }
   ],
   "source": [
    "showEmployee(\"Ben\", 12000)\n",
    "showEmployee(\"Jessa\")"
   ]
  },
  {
   "cell_type": "markdown",
   "id": "1bf052c8-1ab4-47c0-b99f-58261fcd81ad",
   "metadata": {},
   "source": [
    "#### Assign a different name to function and call it through the new name"
   ]
  },
  {
   "cell_type": "markdown",
   "id": "59b72afc-bf6e-4812-b51d-60483d871c07",
   "metadata": {},
   "source": [
    "Below is the function `display_student(name, age)`. Assign a new name show_tudent(name, age) to it and call it using the new name (without defining a new function!)."
   ]
  },
  {
   "cell_type": "code",
   "execution_count": 89,
   "id": "8912de70-07f1-4eaf-9dfb-016ef42e45c6",
   "metadata": {},
   "outputs": [],
   "source": [
    "def display_student(name, age):\n",
    "    print(name, age)"
   ]
  },
  {
   "cell_type": "code",
   "execution_count": 90,
   "id": "06236a88-f2da-498c-b537-04b56724014d",
   "metadata": {},
   "outputs": [
    {
     "name": "stdout",
     "output_type": "stream",
     "text": [
      "Emma 26\n"
     ]
    }
   ],
   "source": [
    "display_student(\"Emma\", 26)"
   ]
  },
  {
   "cell_type": "markdown",
   "id": "19db6415-3d70-4298-afd3-7a0054071f4e",
   "metadata": {},
   "source": [
    "Now make the following code: `show_student(name, age)` return the same output without a new function definition"
   ]
  },
  {
   "cell_type": "code",
   "execution_count": 91,
   "id": "aace7d31-5252-4af2-bb64-2bdf05efae87",
   "metadata": {},
   "outputs": [],
   "source": [
    "show_student = display_student"
   ]
  },
  {
   "cell_type": "code",
   "execution_count": 92,
   "id": "a6584dc3-296e-4628-b4ee-83dd2397f012",
   "metadata": {},
   "outputs": [
    {
     "name": "stdout",
     "output_type": "stream",
     "text": [
      "Ben 27\n"
     ]
    }
   ],
   "source": [
    "show_student(\"Ben\", 27)"
   ]
  },
  {
   "cell_type": "markdown",
   "id": "78964e00-e7ea-4440-b74d-638b0aa72674",
   "metadata": {},
   "source": [
    "### General programming Qs"
   ]
  },
  {
   "cell_type": "markdown",
   "id": "4b7b79d9-7a64-4d07-86d9-4759e7e7fcc6",
   "metadata": {},
   "source": [
    "In the drills below, **before (!) coding**, start by manually calculating some expected outputs and create assertions. The more, the better. Only then start coding! "
   ]
  },
  {
   "cell_type": "markdown",
   "id": "48271699-a4f9-4735-8f57-4fd12bd1e450",
   "metadata": {},
   "source": [
    "#### Calculate income tax for the given income by adhering to the below rules:"
   ]
  },
  {
   "attachments": {
    "94ab1430-0bb2-4eb8-869d-af30fa46b338.png": {
     "image/png": "[encoded data removed]"
    }
   },
   "cell_type": "markdown",
   "id": "6ce4756e-deef-48c7-9eca-534ee9427652",
   "metadata": {},
   "source": [
    "![image.png](attachment:94ab1430-0bb2-4eb8-869d-af30fa46b338.png)"
   ]
  },
  {
   "cell_type": "code",
   "execution_count": 93,
   "id": "6605e007-e059-4169-b011-f39ba139c440",
   "metadata": {},
   "outputs": [],
   "source": [
    "def income_tax(income):\n",
    "    tax = 0.0\n",
    "    stairs = ((10000.0, 0.1),(20000.0, 0.15),(20000.0,0.2),(-1.0,0.25))\n",
    "    for level, taxrate in stairs:\n",
    "        if level > 0:\n",
    "            tax += min(level, income) * taxrate\n",
    "            income -= min(level, income)\n",
    "        else:\n",
    "            tax += income * taxrate\n",
    "            income = 0\n",
    "        #print (level, income, taxrate, tax)\n",
    "    return tax"
   ]
  },
  {
   "cell_type": "code",
   "execution_count": 94,
   "id": "9a7c50e7-d93b-45dd-a8bd-3a49200b6cd9",
   "metadata": {},
   "outputs": [
    {
     "data": {
      "text/plain": [
       "3014.8"
      ]
     },
     "execution_count": 94,
     "metadata": {},
     "output_type": "execute_result"
    }
   ],
   "source": [
    "assert income_tax(5000) == 500\n",
    "assert income_tax(15000) == 1750\n",
    "assert income_tax(40000) == 6000\n",
    "assert income_tax(100000) == 20500\n",
    "\n",
    "income_tax(23432)"
   ]
  },
  {
   "cell_type": "markdown",
   "id": "a88a2cfd-9ae6-4ce5-9948-85b97ce5badd",
   "metadata": {},
   "source": [
    "#### Print downward Half-Pyramid Pattern with Star (asterisk)"
   ]
  },
  {
   "cell_type": "markdown",
   "id": "a0a48a69-ab4b-4c5a-9178-fae272c22085",
   "metadata": {},
   "source": [
    "Print the following pattern:"
   ]
  },
  {
   "cell_type": "markdown",
   "id": "dd966411-baf2-4e3e-9161-7009172f500a",
   "metadata": {},
   "source": [
    "```python\n",
    "* * * * *  \n",
    "* * * *  \n",
    "* * *  \n",
    "* *  \n",
    "*\n",
    "```"
   ]
  },
  {
   "cell_type": "code",
   "execution_count": 95,
   "id": "d45d6c64-1be1-4af5-90f0-197e70e49fd2",
   "metadata": {},
   "outputs": [
    {
     "name": "stdout",
     "output_type": "stream",
     "text": [
      "* * * * * \n",
      "* * * * \n",
      "* * * \n",
      "* * \n",
      "* \n"
     ]
    }
   ],
   "source": [
    "for i in range(5,0,-1):\n",
    "    line = ''\n",
    "    for j in range(i):\n",
    "        line += '* '\n",
    "    print(line)"
   ]
  },
  {
   "cell_type": "markdown",
   "id": "f59810bb-4b6c-422b-902d-451e654a0295",
   "metadata": {},
   "source": [
    "#### Write a program to display all prime numbers within a range"
   ]
  },
  {
   "cell_type": "markdown",
   "id": "9cb492ef-1cf9-406e-a2a8-72c0b1626cb2",
   "metadata": {},
   "source": [
    "A Prime Number is a number that cannot be made by multiplying other whole numbers. A prime number is a natural number greater than 1 that is not a product of two smaller natural numbers"
   ]
  },
  {
   "cell_type": "markdown",
   "id": "e1f5b317-bc6b-4f20-9bc8-9c38dfd44b68",
   "metadata": {},
   "source": [
    "Example:\n",
    "```python\n",
    "start = 25\n",
    "end = 50\n",
    "\n",
    "Prime numbers between 25 and 50 are:\n",
    "29\n",
    "31\n",
    "37\n",
    "41\n",
    "43\n",
    "47\n",
    "```"
   ]
  },
  {
   "cell_type": "code",
   "execution_count": 96,
   "id": "f739b1ca-7ab7-4a64-98b2-0dcc2184c3a0",
   "metadata": {},
   "outputs": [],
   "source": [
    "def print_prime(start, end):\n",
    "    print(f\"Prime numbers betweem {start} and {end} are:\")\n",
    "    for i in range(start, end + 1):\n",
    "        is_prime = True\n",
    "        for j in range(2, i // 2):\n",
    "            if i % j == 0:\n",
    "                is_prime = False\n",
    "        if is_prime:\n",
    "            print(i)        "
   ]
  },
  {
   "cell_type": "code",
   "execution_count": 97,
   "id": "fe8bccf4-fc11-4010-9043-aa9d3ab3b38c",
   "metadata": {},
   "outputs": [
    {
     "name": "stdout",
     "output_type": "stream",
     "text": [
      "Prime numbers betweem 25 and 50 are:\n",
      "29\n",
      "31\n",
      "37\n",
      "41\n",
      "43\n",
      "47\n"
     ]
    }
   ],
   "source": [
    "print_prime(25, 50)"
   ]
  },
  {
   "cell_type": "markdown",
   "id": "149de991-dc4c-4737-8726-cf1c1db80f49",
   "metadata": {},
   "source": [
    "## Data Manipulation"
   ]
  },
  {
   "cell_type": "markdown",
   "id": "f36931a1-7c5e-4791-850a-54aa0d12f87c",
   "metadata": {},
   "source": [
    "### Data generation"
   ]
  },
  {
   "cell_type": "code",
   "execution_count": 98,
   "id": "19630bad-f47c-4ac7-97f3-8f779c55edd5",
   "metadata": {},
   "outputs": [],
   "source": [
    "import numpy as np"
   ]
  },
  {
   "cell_type": "code",
   "execution_count": 99,
   "id": "18d1ab56-4d94-4dad-a870-07d1e7772f5a",
   "metadata": {},
   "outputs": [],
   "source": [
    "arr_1 = 2 + 0.5 * np.random.randn(10)\n",
    "vec_1 = list(arr_1)\n",
    "arr_2 = 4 + 0.25 * np.random.randn(100)\n",
    "vec_2 = list(arr_2)"
   ]
  },
  {
   "cell_type": "code",
   "execution_count": 100,
   "id": "d3573dac-281a-48f9-9b09-6e544565dd61",
   "metadata": {},
   "outputs": [
    {
     "data": {
      "text/plain": [
       "[(2.4025413383328846, 4.214647803671407),\n",
       " (2.7426474757363923, 4.3103144891307466),\n",
       " (1.2587618950621775, 4.326900661656919),\n",
       " (2.3262397749803347, 4.06744785362352),\n",
       " (2.2545778396421805, 4.219910827048136),\n",
       " (2.3735674300294107, 4.065480989975201),\n",
       " (1.9120764405708648, 3.9962613538828347),\n",
       " (1.9839429939441984, 3.71358428400525),\n",
       " (2.3218307174259776, 4.0502827683235845),\n",
       " (1.6822768912477135, 3.8509651751953746)]"
      ]
     },
     "execution_count": 100,
     "metadata": {},
     "output_type": "execute_result"
    }
   ],
   "source": [
    "list(zip(vec_1, vec_2))"
   ]
  },
  {
   "cell_type": "markdown",
   "id": "1c0e1796-be09-4c3e-b9dc-07787a3a56f0",
   "metadata": {},
   "source": [
    "### Mean and STD"
   ]
  },
  {
   "cell_type": "markdown",
   "id": "63682fc5-188d-44fa-8a2b-6db99adf59fa",
   "metadata": {},
   "source": [
    "Using basic python syntax and modules, calculate the mean and standard devation of `vec_1` and `vec_2`."
   ]
  },
  {
   "cell_type": "code",
   "execution_count": 101,
   "id": "f314e865-8c59-4e07-b7e8-f1d47f1f31e6",
   "metadata": {},
   "outputs": [],
   "source": [
    "def mean(lst):\n",
    "    return sum(lst) / len(lst)"
   ]
  },
  {
   "cell_type": "code",
   "execution_count": 102,
   "id": "5fa6ead6-a2f5-48ca-893d-f3c2c625d1bd",
   "metadata": {
    "tags": []
   },
   "outputs": [],
   "source": [
    "def std(lst):\n",
    "    avg = mean(lst)\n",
    "    return (sum((lst - avg)**2) / len(lst)) ** 0.5\n"
   ]
  },
  {
   "cell_type": "code",
   "execution_count": 103,
   "id": "9357f970-0f0e-447e-95b6-264c189623ae",
   "metadata": {},
   "outputs": [
    {
     "name": "stdout",
     "output_type": "stream",
     "text": [
      "2.1258462796972135\n",
      "0.40347640892810155\n",
      "3.9874829212518934\n",
      "0.2617487690394716\n"
     ]
    }
   ],
   "source": [
    "print(mean(vec_1))\n",
    "print(std(vec_1))\n",
    "print(mean(vec_2))\n",
    "print(std(vec_2))"
   ]
  },
  {
   "cell_type": "markdown",
   "id": "e3ef725f-b9e5-4edc-907c-c9995f3723eb",
   "metadata": {},
   "source": [
    "### Dot product"
   ]
  },
  {
   "cell_type": "markdown",
   "id": "da0f209f-99aa-4625-b053-b7a99f6d4090",
   "metadata": {},
   "source": [
    "Using basic python syntax and modules, calculate the dot product (AKA scalar product) of `vec_1` and `vec_2`.\n",
    "\n",
    "Reminder: The Dot product between two vectors is defined as:\n",
    "\n",
    "$ \\textbf{p} \\cdot \\textbf{q} = \n",
    "\\begin{pmatrix} x_{1} & y_{1} & z_{1} \\end{pmatrix} \n",
    "\\begin{pmatrix} x_{2}\\\\ y_{2}\\\\ z_{2} \\end{pmatrix} = \\sum_i{p_i \\cdot q_i}$ "
   ]
  },
  {
   "cell_type": "code",
   "execution_count": 104,
   "id": "b3e3177b-ceb2-4566-8574-e14ce0218bcd",
   "metadata": {},
   "outputs": [],
   "source": [
    "def dotprod(v1, v2):\n",
    "    prod = 0.0\n",
    "    for i in range(min(len(v1), len(v2))):\n",
    "        prod += v1[i] * v2[i]\n",
    "    return prod               \n",
    "    "
   ]
  },
  {
   "cell_type": "code",
   "execution_count": 105,
   "id": "20af31c4-8066-46b6-83eb-2b4750558129",
   "metadata": {},
   "outputs": [
    {
     "data": {
      "text/plain": [
       "86.91090346236948"
      ]
     },
     "execution_count": 105,
     "metadata": {},
     "output_type": "execute_result"
    }
   ],
   "source": [
    "dotprod(vec_1, vec_2)"
   ]
  },
  {
   "cell_type": "markdown",
   "id": "112d148c-cb0a-4092-961b-fc17320d0809",
   "metadata": {},
   "source": [
    "### Correlation"
   ]
  },
  {
   "cell_type": "markdown",
   "id": "4398ea82-f423-46e9-ba4d-e175aeecae2a",
   "metadata": {},
   "source": [
    "Using basic python syntax and modules, calculate the [pearson correlation](https://en.wikipedia.org/wiki/Pearson_correlation_coefficient) between `vec_1` and `vec_2`:\n",
    "\n",
    "\\begin{equation}\n",
    "r_{xy} = \\frac{\\sum_{i=1}^{n}(p_i-\\bar{p})(q_i-\\bar{q})}{\\sqrt{\\sum_{i=1}^{n}(p_i-\\bar{p})^2}\\sqrt{\\sum_{i=1}^{n}(q_i-\\bar{q})^2}}\n",
    "\\end{equation}\n",
    "\n",
    "where $r_{pq}$ is the Pearson correlation coefficient between vectors $\\textbf{p}$ and $\\textbf{q}$, $n$ is the number of data points, $p_i$ and $q_i$ are the $i$-th observations of $\\textbf{p}$ and $\\textbf{q}$, and $\\bar{p}$ and $\\bar{q}$ are their respective means."
   ]
  },
  {
   "cell_type": "code",
   "execution_count": 106,
   "id": "da60636e-a3ae-42e1-a053-d49f0be6fd60",
   "metadata": {},
   "outputs": [],
   "source": [
    "def correl(v1, v2):\n",
    "    v1 = v1[:min(len(v1),len(v2))]\n",
    "    v2 = v2[:min(len(v1),len(v2))]\n",
    "    sum_c = 0.0\n",
    "    sum_1 = 0.0\n",
    "    sum_2 = 0.0\n",
    "    avg_1 = mean(v1)\n",
    "    avg_2 = mean(v2)\n",
    "    \n",
    "    for i in range(len(v1)):\n",
    "        sum_c += (v1[i] - avg_1) * (v2[i] - avg_2)\n",
    "        sum_1 += (v1[i] - avg_1) ** 2\n",
    "        sum_2 += (v2[i] - avg_2) ** 2\n",
    "        \n",
    "    return sum_c / ((sum_1 * sum_2) ** 0.5)"
   ]
  },
  {
   "cell_type": "code",
   "execution_count": 107,
   "id": "507e9575-1ed3-4ead-9a17-6f96401df56b",
   "metadata": {},
   "outputs": [
    {
     "data": {
      "text/plain": [
       "0.19008118634656268"
      ]
     },
     "execution_count": 107,
     "metadata": {},
     "output_type": "execute_result"
    }
   ],
   "source": [
    "correl(vec_1, vec_2)"
   ]
  },
  {
   "cell_type": "markdown",
   "id": "bf0455d4-73cf-4268-854c-f5d9d6012648",
   "metadata": {},
   "source": [
    "### Matrix multiplication"
   ]
  },
  {
   "cell_type": "markdown",
   "id": "44785810-62b6-47b2-bbd1-f32b552806fb",
   "metadata": {},
   "source": [
    "Given the following two matrices, compute the product between them:\n",
    "* Implement with basic python\n",
    "* Implement with numpy\n",
    "* use the `%timeit` magic to compare the running time of both implementations"
   ]
  },
  {
   "cell_type": "code",
   "execution_count": 108,
   "id": "19c1af59-5cc2-43b8-a3cc-9295e54879b6",
   "metadata": {},
   "outputs": [],
   "source": [
    "matrix1 = [[1, 2, 3],\n",
    "           [4, 5, 6],\n",
    "           [7, 8, 9]]"
   ]
  },
  {
   "cell_type": "code",
   "execution_count": 109,
   "id": "8eb222b2-1876-45a5-9b4b-868edafb701f",
   "metadata": {},
   "outputs": [],
   "source": [
    "matrix2 = [[9, 8, 7],\n",
    "           [6, 5, 4],\n",
    "           [3, 2, 1]]"
   ]
  },
  {
   "cell_type": "code",
   "execution_count": 110,
   "id": "4bbb08dd-c941-40b4-95b1-fc97cd348083",
   "metadata": {},
   "outputs": [],
   "source": [
    "expected_result = [[30, 24, 18],\n",
    "                   [84, 69, 54],\n",
    "                   [138, 114, 90]]"
   ]
  },
  {
   "cell_type": "code",
   "execution_count": 111,
   "id": "a07c8b3c-0efa-4e6f-950e-32806d691617",
   "metadata": {},
   "outputs": [
    {
     "data": {
      "text/plain": [
       "array([[ 30,  24,  18],\n",
       "       [ 84,  69,  54],\n",
       "       [138, 114,  90]])"
      ]
     },
     "execution_count": 111,
     "metadata": {},
     "output_type": "execute_result"
    }
   ],
   "source": [
    "np.matmul(matrix1, matrix2)"
   ]
  },
  {
   "cell_type": "code",
   "execution_count": 112,
   "id": "b2a916d8-b5b7-4434-9651-e4afb3403ba6",
   "metadata": {},
   "outputs": [],
   "source": [
    "def matprod(mat1, mat2):\n",
    "    rows3 = len(mat2[0])\n",
    "    cols3 = len(mat1)\n",
    "    mat3 = [([0]*cols3) for i in range(rows3)]\n",
    "    for i in range(rows3):\n",
    "        for j in range(cols3):\n",
    "            currow = [mat2[k][j] for k in range(len(matrix2))]\n",
    "            mat3[i][j] = int(dotprod(mat1[i], currow))\n",
    "    return mat3     "
   ]
  },
  {
   "cell_type": "code",
   "execution_count": 113,
   "id": "82409ae8-42b4-4af1-8b6c-0890685f5b7e",
   "metadata": {},
   "outputs": [
    {
     "data": {
      "text/plain": [
       "[[30, 24, 18], [84, 69, 54], [138, 114, 90]]"
      ]
     },
     "execution_count": 113,
     "metadata": {},
     "output_type": "execute_result"
    }
   ],
   "source": [
    "matprod(matrix1, matrix2)"
   ]
  },
  {
   "cell_type": "code",
   "execution_count": 114,
   "id": "e83d6feb-4aff-445f-adf3-8bbd01bd505e",
   "metadata": {
    "tags": []
   },
   "outputs": [
    {
     "name": "stdout",
     "output_type": "stream",
     "text": [
      "7.53 ms ± 980 µs per loop (mean ± std. dev. of 7 runs, 100 loops each)\n"
     ]
    }
   ],
   "source": [
    "%timeit for x in range(1000): np.matmul(matrix1, matrix2)"
   ]
  },
  {
   "cell_type": "code",
   "execution_count": 115,
   "id": "892dbb87-877a-4b12-b216-a2dcccf06b3d",
   "metadata": {},
   "outputs": [
    {
     "name": "stdout",
     "output_type": "stream",
     "text": [
      "15.7 ms ± 706 µs per loop (mean ± std. dev. of 7 runs, 100 loops each)\n"
     ]
    }
   ],
   "source": [
    "%timeit for x in range(1000): matprod(matrix1, matrix2)"
   ]
  },
  {
   "cell_type": "markdown",
   "id": "328758e9-b0af-4e5f-9f1d-f641600a17aa",
   "metadata": {},
   "source": [
    "### Data reshaping"
   ]
  },
  {
   "cell_type": "markdown",
   "id": "cb07ebf7-4f6e-46d1-b04a-e853ffd8d6cd",
   "metadata": {},
   "source": [
    "Write a fuction `reshape(vector, shape)` that receives a list and returns a list of lists in the desired shape, but only if it fits!"
   ]
  },
  {
   "cell_type": "code",
   "execution_count": 116,
   "id": "cc6d9f92-a3b9-423b-b0a9-2a6eb38e797c",
   "metadata": {},
   "outputs": [],
   "source": [
    "l = [1, 2, 3, 4, 5, 6, 7, 8, 9, 10, 11, 12]"
   ]
  },
  {
   "cell_type": "markdown",
   "id": "191c4753-b8aa-4deb-be7f-be68f7b94278",
   "metadata": {},
   "source": [
    "For example:\n",
    "```python\n",
    "\n",
    "reshape(l, (3,4))\n",
    "[Output]:\n",
    "    [[ 1,  2,  3,  4],\n",
    "     [ 5,  6,  7,  8],\n",
    "     [ 9, 10, 11, 12]]\n",
    "\n",
    "rehsape(l, (4,3))\n",
    "[Output]:\n",
    "    [[ 1,  2,  3],\n",
    "     [ 4,  5,  6],\n",
    "     [ 7,  8,  9],\n",
    "     [10, 11, 12]]\n",
    "    \n",
    "reshape(l, (2,6))\n",
    "[Output]:\n",
    "    [[ 1,  2,  3,  4,  5,  6],\n",
    "     [ 7,  8,  9, 10, 11, 12]]\n",
    "```"
   ]
  },
  {
   "cell_type": "code",
   "execution_count": 117,
   "id": "afa9c49e-5ce0-4d4c-a030-10cdebbd3c7b",
   "metadata": {},
   "outputs": [],
   "source": [
    "def reshape(vector, shape):\n",
    "    cols, rows = shape[0], shape[1]\n",
    "    mat = []\n",
    "    if cols * rows == len(vector):\n",
    "        for i in range(cols):\n",
    "            mat.append(vector[rows * i : rows * (i + 1)])\n",
    "    return mat\n",
    "    "
   ]
  },
  {
   "cell_type": "code",
   "execution_count": 118,
   "id": "1fc86fa9-b013-4e47-a1f4-1e227f51b7c7",
   "metadata": {},
   "outputs": [
    {
     "name": "stdout",
     "output_type": "stream",
     "text": [
      "[[1, 2, 3], [4, 5, 6], [7, 8, 9], [10, 11, 12]]\n",
      "[[1, 2, 3, 4], [5, 6, 7, 8], [9, 10, 11, 12]]\n",
      "[[1, 2, 3, 4, 5, 6], [7, 8, 9, 10, 11, 12]]\n",
      "[]\n"
     ]
    }
   ],
   "source": [
    "print(reshape(l, (4, 3)))\n",
    "print(reshape(l, (3, 4)))\n",
    "print(reshape(l, (2, 6)))\n",
    "print(reshape(l, (2, 5)))"
   ]
  },
  {
   "cell_type": "markdown",
   "id": "b2851437-f547-43ae-a4f0-fffe2a1eac48",
   "metadata": {},
   "source": [
    "## Gradient decent"
   ]
  },
  {
   "cell_type": "markdown",
   "id": "69d9694d-efd1-44a3-ad11-2081be5bca5e",
   "metadata": {},
   "source": [
    "To be defined"
   ]
  },
  {
   "cell_type": "markdown",
   "id": "62582107-cdab-46d0-944d-e6dfa88f6601",
   "metadata": {},
   "source": [
    "## OOP design"
   ]
  },
  {
   "cell_type": "markdown",
   "id": "6660c8e9-7f11-4054-bc50-098e63712012",
   "metadata": {},
   "source": [
    "### Warm-up drill"
   ]
  },
  {
   "cell_type": "markdown",
   "id": "594d777d-9304-4129-971d-00060c100c0b",
   "metadata": {
    "tags": []
   },
   "source": [
    "Suppose you're working on a program for a pet store, and you need to represent different kinds of pets. You decide to use object-oriented programming to model your solution. You start by creating a base class called Pet that has common attributes and methods, and then create two subclasses Dog and Cat that inherit from Pet and add their own unique attributes and methods.\n",
    "\n",
    "Implement in OOP the following attributes and methods:\n",
    "* Attributes: \n",
    "  * name, age, breed, food type, sound, height, weight. \n",
    "  * For cats only: color\n",
    "  * For dogs only: is_working_dog\n",
    "* Methods: \n",
    "  * `make_sound()` that will print the sounds attribute\n",
    "  * `is_overweight()` - calculates the pet BMI and returns True of False in case of Over/Under 25\n",
    "  * `get_nemesis()` - returns the name of the pet enemy"
   ]
  },
  {
   "cell_type": "code",
   "execution_count": 119,
   "id": "ff31d364-c8e2-47e5-84a3-8bd940692790",
   "metadata": {},
   "outputs": [],
   "source": [
    "class Pet():\n",
    "    \n",
    "    def __init__(self, name, age, breed, food_type, sound, height, weight):\n",
    "        self.name = name\n",
    "        self.age = age\n",
    "        self.breed = breed\n",
    "        self.food_type = food_type\n",
    "        self.sound = sound\n",
    "        self.height = height\n",
    "        self.weight = weight\n",
    "    \n",
    "    def make_sound(self):\n",
    "        print(self.sound)\n",
    "        \n",
    "    def is_overweight(self):\n",
    "        bmi = self.weight / self.height ** 2 \n",
    "        return bmi > 25\n",
    "\n",
    "    def get_nemesis(self):\n",
    "        pass"
   ]
  },
  {
   "cell_type": "code",
   "execution_count": 120,
   "id": "2b3ba8b3-1dbb-4efd-8db6-0c8c209da36f",
   "metadata": {
    "tags": []
   },
   "outputs": [],
   "source": [
    "class Cat(Pet):\n",
    "    \n",
    "    def __init__(self, name, age, breed, food_type, sound, height, weight, color):\n",
    "        super().__init__(name, age, breed, food_type, sound, height, weight)\n",
    "        self.color = color\n",
    "        \n",
    "    def get_nemesis(self):\n",
    "        return 'Dog'"
   ]
  },
  {
   "cell_type": "code",
   "execution_count": 121,
   "id": "179ab5b1-1ead-47d0-a027-4303c09fe971",
   "metadata": {
    "tags": []
   },
   "outputs": [],
   "source": [
    "class Dog(Pet):\n",
    "    \n",
    "    def __init__(self, name, age, breed, food_type, sound, height, weight, is_working_dog):\n",
    "        super().__init__(name, age, breed, food_type, sound, height, weight)\n",
    "        self.is_working_dog = is_working_dog\n",
    "        \n",
    "    def get_nemesis(self):\n",
    "        return 'Cat'"
   ]
  },
  {
   "cell_type": "code",
   "execution_count": 122,
   "id": "3cf6d53c-af1d-456c-b23a-bbac4726e274",
   "metadata": {},
   "outputs": [],
   "source": [
    "a = Pet('John', 3, False, 'Meat', 'OOOOOOOOOOO', 0.7, 12)"
   ]
  },
  {
   "cell_type": "code",
   "execution_count": 123,
   "id": "15ff191e-ca3d-4030-b12e-b72bc7125027",
   "metadata": {},
   "outputs": [
    {
     "name": "stdout",
     "output_type": "stream",
     "text": [
      "OOOOOOOOOOO\n"
     ]
    }
   ],
   "source": [
    "a.make_sound()"
   ]
  },
  {
   "cell_type": "code",
   "execution_count": 124,
   "id": "2ca504c9-73f7-4607-b26b-9c0ffb12db9e",
   "metadata": {},
   "outputs": [
    {
     "data": {
      "text/plain": [
       "False"
      ]
     },
     "execution_count": 124,
     "metadata": {},
     "output_type": "execute_result"
    }
   ],
   "source": [
    "a.is_overweight()"
   ]
  },
  {
   "cell_type": "code",
   "execution_count": 125,
   "id": "850a9c8a-4daf-41f3-8150-3b2d6dd48529",
   "metadata": {},
   "outputs": [],
   "source": [
    "b = Cat('Garfield', 5, False, 'Lazagna', 'Meyaw', 0.4, 30, 'Orange')"
   ]
  },
  {
   "cell_type": "code",
   "execution_count": 126,
   "id": "af0499b2-87c2-4f2c-a061-10b8ddbc6bb0",
   "metadata": {},
   "outputs": [
    {
     "name": "stdout",
     "output_type": "stream",
     "text": [
      "Meyaw\n"
     ]
    }
   ],
   "source": [
    "b.make_sound()"
   ]
  },
  {
   "cell_type": "code",
   "execution_count": 127,
   "id": "14ad280b-93c1-4f7b-ba37-1338eb864fb5",
   "metadata": {},
   "outputs": [
    {
     "data": {
      "text/plain": [
       "True"
      ]
     },
     "execution_count": 127,
     "metadata": {},
     "output_type": "execute_result"
    }
   ],
   "source": [
    "b.is_overweight()"
   ]
  },
  {
   "cell_type": "code",
   "execution_count": 128,
   "id": "9cc4c42a-e543-4307-86ef-ebab54814123",
   "metadata": {},
   "outputs": [
    {
     "data": {
      "text/plain": [
       "'Dog'"
      ]
     },
     "execution_count": 128,
     "metadata": {},
     "output_type": "execute_result"
    }
   ],
   "source": [
    "b.get_nemesis()"
   ]
  },
  {
   "cell_type": "markdown",
   "id": "52016330-50d5-4163-b6ab-cd601044d85f",
   "metadata": {},
   "source": [
    "### Vehicels exercise"
   ]
  },
  {
   "cell_type": "markdown",
   "id": "3389d017-c5d4-4dbe-8c7a-e0643bce17ea",
   "metadata": {},
   "source": [
    "This OOP exercise covers questions on the following topics:\n",
    "\n",
    "* Class and Object creation\n",
    "* Instance variables and Methods, and Class level attributes\n",
    "* Model systems with class inheritance i.e., inherit From Other Classes\n",
    "* Parent Classes and Child Classes\n",
    "* Extend the functionality of Parent Classes using Child class\n",
    "* Object checking"
   ]
  },
  {
   "cell_type": "markdown",
   "id": "846c49bd-48a2-4c5a-9b11-656a48b71104",
   "metadata": {},
   "source": [
    "#### Create a Vehicle class without any variables and methods"
   ]
  },
  {
   "cell_type": "code",
   "execution_count": 129,
   "id": "1312817d-c7f1-4521-8233-15ac57b8010b",
   "metadata": {},
   "outputs": [],
   "source": [
    "class Vehicle():\n",
    "    pass"
   ]
  },
  {
   "cell_type": "markdown",
   "id": "90d51ef4-ffac-40c5-84b7-47f7ba43c187",
   "metadata": {},
   "source": [
    "#### Create a Class with instance attributes"
   ]
  },
  {
   "cell_type": "markdown",
   "id": "664e68b2-d744-42d1-8637-298cc008f06e",
   "metadata": {},
   "source": [
    "Write a Python program to create a Vehicle class with max_speed and mileage instance attributes.\n",
    "\n"
   ]
  },
  {
   "cell_type": "code",
   "execution_count": 130,
   "id": "a7c3f09c-95c8-492c-91f8-0d97ede3dab8",
   "metadata": {
    "tags": []
   },
   "outputs": [],
   "source": [
    "class Vehicle():\n",
    "    def __init__(self, name, max_speed, mileage):\n",
    "        self.name = name\n",
    "        self.max_speed = max_speed\n",
    "        self.mileage = mileage\n",
    "        "
   ]
  },
  {
   "cell_type": "markdown",
   "id": "0486984b-ba8e-440c-b346-6784fd440567",
   "metadata": {},
   "source": [
    "#### Create a child class Bus that will inherit all of the variables and methods of the Vehicle class"
   ]
  },
  {
   "cell_type": "code",
   "execution_count": 131,
   "id": "146ddedf-33f2-43f3-bbea-ef9036e881d2",
   "metadata": {},
   "outputs": [],
   "source": [
    "class Bus(Vehicle):\n",
    "    def __init__(self, name, max_speed, mileage):\n",
    "        super().__init__(name, max_speed, mileage)"
   ]
  },
  {
   "cell_type": "markdown",
   "id": "fa2f587c-a2ff-424c-a945-030078b2f3fb",
   "metadata": {},
   "source": [
    "\n",
    "#### Override `__str__()` to control how the class will be printed "
   ]
  },
  {
   "cell_type": "code",
   "execution_count": 132,
   "id": "62c4d49f-4560-4056-a3f2-bb83a6088d93",
   "metadata": {
    "tags": []
   },
   "outputs": [],
   "source": [
    "class Vehicle():\n",
    "    def __init__(self, name, max_speed, mileage):\n",
    "        self.name = name\n",
    "        self.max_speed = max_speed\n",
    "        self.mileage = mileage\n",
    "\n",
    "    def __str__(self):\n",
    "        return \"Vehicle Name: \" + self.name + \" Speed: \" + str(self.max_speed) + \" Mileage: \" + str(self.mileage)\n"
   ]
  },
  {
   "cell_type": "code",
   "execution_count": 133,
   "id": "96fe11de-6bb5-4939-b0d1-c026917fbf5f",
   "metadata": {},
   "outputs": [],
   "source": [
    "class Bus(Vehicle):\n",
    "    def __init__(self, name, max_speed, mileage):\n",
    "        super().__init__(name, max_speed, mileage)"
   ]
  },
  {
   "cell_type": "markdown",
   "id": "37bed8f0-0c91-4f51-8434-b4196129ff34",
   "metadata": {
    "tags": []
   },
   "source": [
    "Vehicle Name: School Volvo Speed: 180 Mileage: 12Expected Outcome:\n",
    "\n",
    "```python\n",
    "School_bus = Bus(\"School Volvo\", 180, 12)\n",
    "print(bus)\n",
    "Vehicle Name: School Volvo Speed: 180 Mileage: 12\n",
    "```"
   ]
  },
  {
   "cell_type": "code",
   "execution_count": 134,
   "id": "4019608f-f2bf-4c93-91b0-d24c2927ca9b",
   "metadata": {
    "tags": []
   },
   "outputs": [
    {
     "name": "stdout",
     "output_type": "stream",
     "text": [
      "Vehicle Name: School Volvo Speed: 180 Mileage: 12\n"
     ]
    }
   ],
   "source": [
    "School_bus = Bus(\"School Volvo\", 180, 12)\n",
    "print(School_bus)"
   ]
  },
  {
   "cell_type": "markdown",
   "id": "20d68243-8293-4793-89db-2e76bbf47074",
   "metadata": {},
   "source": [
    "#### Set vehicle capacity"
   ]
  },
  {
   "cell_type": "markdown",
   "id": "1ceb4868-b590-4058-90ad-1bef97b2830d",
   "metadata": {
    "tags": []
   },
   "source": [
    "Give the capacity argument of `Bus.seating_capacity()` a default value of 50."
   ]
  },
  {
   "cell_type": "code",
   "execution_count": 135,
   "id": "acfdd268-a539-4a67-822a-d9fb67c1d45d",
   "metadata": {
    "tags": []
   },
   "outputs": [],
   "source": [
    "class Vehicle():\n",
    "    def __init__(self, name, max_speed, mileage):\n",
    "        self.name = name\n",
    "        self.max_speed = max_speed\n",
    "        self.mileage = mileage\n",
    "\n",
    "    def __str__(self):\n",
    "        return \"Vehicle Name: \" + self.name + \" Speed: \" + str(self.max_speed) + \" Mileage: \" + str(self.mileage)\n",
    "\n",
    "    def seating_capacity(self, capacity = 50):\n",
    "        self.capacity = capacity"
   ]
  },
  {
   "cell_type": "code",
   "execution_count": 136,
   "id": "e936a087-ad9f-4fe5-af87-0d22974d2786",
   "metadata": {
    "tags": []
   },
   "outputs": [],
   "source": [
    "class Bus(Vehicle):\n",
    "    def __init__(self, name, max_speed, mileage):\n",
    "        super().__init__(name, max_speed, mileage) "
   ]
  },
  {
   "cell_type": "code",
   "execution_count": 137,
   "id": "429b4a50-aff4-4f27-9634-ccbab74551ef",
   "metadata": {},
   "outputs": [
    {
     "name": "stdout",
     "output_type": "stream",
     "text": [
      "50\n"
     ]
    }
   ],
   "source": [
    "School_bus = Bus(\"School Volvo\", 180, 12)\n",
    "School_bus.seating_capacity()\n",
    "print(School_bus.capacity)"
   ]
  },
  {
   "cell_type": "code",
   "execution_count": 138,
   "id": "78dbe205-1556-41f2-a624-438adda70243",
   "metadata": {},
   "outputs": [
    {
     "name": "stdout",
     "output_type": "stream",
     "text": [
      "55\n"
     ]
    }
   ],
   "source": [
    "School_bus.seating_capacity(55)\n",
    "print(School_bus.capacity)"
   ]
  },
  {
   "cell_type": "markdown",
   "id": "cb5bb01c-a264-475f-83d0-c00d5d47cdee",
   "metadata": {},
   "source": [
    "#### Define a property that gets the same value for every class instance (object)"
   ]
  },
  {
   "cell_type": "markdown",
   "id": "4e10baf7-50c9-47b1-baa0-34417b8f681b",
   "metadata": {},
   "source": [
    "Let's say `number_of_wheels`."
   ]
  },
  {
   "cell_type": "code",
   "execution_count": 139,
   "id": "14e8a32d-bb63-45dc-a735-d41223347730",
   "metadata": {},
   "outputs": [],
   "source": [
    "class Vehicle():\n",
    "    number_of_wheels = 4\n",
    "    \n",
    "    def __init__(self, name, max_speed, mileage):\n",
    "        self.name = name\n",
    "        self.max_speed = max_speed\n",
    "        self.mileage = mileage\n",
    "\n",
    "    def seating_capacity(self, capacity = 50):\n",
    "        self.capacity = capacity      "
   ]
  },
  {
   "cell_type": "code",
   "execution_count": 140,
   "id": "c83f1669-cde8-4cdb-9606-e18652652fe7",
   "metadata": {
    "tags": []
   },
   "outputs": [],
   "source": [
    "class Bus(Vehicle):\n",
    "    def __init__(self, name, max_speed, mileage):\n",
    "        super().__init__(name, max_speed, mileage)   \n"
   ]
  },
  {
   "cell_type": "markdown",
   "id": "459b8326-9981-4e4d-8078-aeebf0af27bb",
   "metadata": {},
   "source": [
    "#### Adding a `fare()` functionallity"
   ]
  },
  {
   "cell_type": "markdown",
   "id": "3a19d1a1-761c-4b11-ba9a-9f3df2260ab3",
   "metadata": {},
   "source": [
    "Create a Bus child class that inherits from the Vehicle class. The default fare charge of any vehicle is seating capacity * 100. If Vehicle is Bus instance, we need to add an extra 10% on full fare as a maintenance charge. So total fare for bus instance will become the final amount = total fare + 10% of the total fare."
   ]
  },
  {
   "cell_type": "markdown",
   "id": "5c845c22-edf0-4e10-8ac9-a0065b424d22",
   "metadata": {
    "tags": []
   },
   "source": [
    "**Note**: The bus seating capacity is 50. so the final fare amount should be 5500. You need to override the fare() method of a Vehicle class in Bus class.\n",
    "\n"
   ]
  },
  {
   "cell_type": "code",
   "execution_count": 141,
   "id": "4249cf3e-ee13-4026-85a4-b333680babe9",
   "metadata": {},
   "outputs": [],
   "source": [
    "class Vehicle():\n",
    "    number_of_wheels = 4\n",
    "    \n",
    "    def __init__(self, name, max_speed, mileage):\n",
    "        self.name = name\n",
    "        self.max_speed = max_speed\n",
    "        self.mileage = mileage\n",
    "\n",
    "    def seating_capacity(self, capacity = 50):\n",
    "        self.capacity = capacity\n",
    "        \n",
    "    def fare(self):\n",
    "        return(self.capacity * 100)"
   ]
  },
  {
   "cell_type": "code",
   "execution_count": 142,
   "id": "ad77e34d-bb87-4c6a-8e75-9431c66c60a6",
   "metadata": {
    "tags": []
   },
   "outputs": [],
   "source": [
    "class Bus(Vehicle):\n",
    "    def __init__(self, name, max_speed, mileage):\n",
    "        super().__init__(name, max_speed, mileage)   \n",
    "\n",
    "    def fare(self):\n",
    "        reg_fare = super().fare()\n",
    "        return(reg_fare * 1.1)"
   ]
  },
  {
   "cell_type": "code",
   "execution_count": 143,
   "id": "09fdcd41-a824-4b12-ad18-27a26e771841",
   "metadata": {},
   "outputs": [
    {
     "name": "stdout",
     "output_type": "stream",
     "text": [
      "400\n"
     ]
    }
   ],
   "source": [
    "My_car = Vehicle(\"Shevrolet Spark\", 160, 5)\n",
    "My_car.seating_capacity(4)\n",
    "print(My_car.fare())"
   ]
  },
  {
   "cell_type": "code",
   "execution_count": 144,
   "id": "14c791d4-5ac8-43b4-9929-ac14ee896295",
   "metadata": {},
   "outputs": [
    {
     "name": "stdout",
     "output_type": "stream",
     "text": [
      "5500.0\n"
     ]
    }
   ],
   "source": [
    "School_bus = Bus(\"School Volvo\", 180, 12)\n",
    "School_bus.seating_capacity(50)\n",
    "print(School_bus.fare())"
   ]
  },
  {
   "cell_type": "markdown",
   "id": "8836d9fb-0823-4089-8481-2f5977c44719",
   "metadata": {
    "tags": []
   },
   "source": [
    "####  Determine if School_bus is also an instance of the Vehicle class"
   ]
  },
  {
   "cell_type": "markdown",
   "id": "f2a1fefa-3947-42cd-b5c2-316803648e9a",
   "metadata": {},
   "source": [
    "Given:\n",
    "```python\n",
    "school_bus = Bus(\"School Volvo\", 180, 12)\n",
    "```\n",
    "\n",
    "write code to check is school_bus is an instance of the vehicle class. Use the `isinstance()` function"
   ]
  },
  {
   "cell_type": "code",
   "execution_count": 145,
   "id": "3b2a8ae9-1af0-4a82-828b-986bb83ec83e",
   "metadata": {},
   "outputs": [
    {
     "data": {
      "text/plain": [
       "True"
      ]
     },
     "execution_count": 145,
     "metadata": {},
     "output_type": "execute_result"
    }
   ],
   "source": [
    "School_bus = Bus(\"School Volvo\", 180, 12)\n",
    "\n",
    "isinstance(School_bus, Vehicle)"
   ]
  },
  {
   "cell_type": "markdown",
   "id": "f37771a7-b5d7-4666-8662-57f21e41d3a0",
   "metadata": {},
   "source": [
    "## Appendix - Self learning!"
   ]
  },
  {
   "cell_type": "markdown",
   "id": "a6f28518-9f85-415b-8b51-8df3181a6345",
   "metadata": {},
   "source": [
    "### Date and Time"
   ]
  },
  {
   "cell_type": "markdown",
   "id": "806fa038-a4e0-49cb-b6f1-446585bf93f0",
   "metadata": {},
   "source": [
    "In the below, you should read about the `datetime` package in python. use `dir()` and `help()` to list all it's methods and options, or use the online documentation (search for it!)"
   ]
  },
  {
   "cell_type": "code",
   "execution_count": 146,
   "id": "0f411e88-fbe3-4852-a92f-ab4f6ed630e4",
   "metadata": {},
   "outputs": [],
   "source": [
    "from datetime import datetime "
   ]
  },
  {
   "cell_type": "markdown",
   "id": "df10382f-1d34-44d5-8007-be80b2f7e986",
   "metadata": {
    "tags": []
   },
   "source": [
    "#### Print current date and time in Python"
   ]
  },
  {
   "cell_type": "code",
   "execution_count": 147,
   "id": "00c35702-4a18-473c-99ac-e9f7cd1337ea",
   "metadata": {},
   "outputs": [
    {
     "name": "stdout",
     "output_type": "stream",
     "text": [
      "2023-03-07 23:51:15.284337\n"
     ]
    }
   ],
   "source": [
    "print(datetime.now())"
   ]
  },
  {
   "cell_type": "markdown",
   "id": "01924d76-44b6-4383-91bb-f6ec2c0ce14e",
   "metadata": {
    "tags": []
   },
   "source": [
    "#### Convert string into a datetime object"
   ]
  },
  {
   "cell_type": "code",
   "execution_count": 148,
   "id": "72e4cf8a-1048-4d04-aee3-a961e769d77a",
   "metadata": {},
   "outputs": [
    {
     "name": "stdout",
     "output_type": "stream",
     "text": [
      "2023-03-02 00:00:00\n"
     ]
    }
   ],
   "source": [
    "str1 = '2023-03-02'\n",
    "str1.split('-')\n",
    "date1 = datetime.strptime(str1, '%Y-%m-%d')\n",
    "print(date1)"
   ]
  },
  {
   "cell_type": "markdown",
   "id": "cd49002c-c7b8-470e-84f5-a9447dbccd81",
   "metadata": {},
   "source": [
    "#### Subtract a week (7 days)  from a given date in Python"
   ]
  },
  {
   "cell_type": "code",
   "execution_count": 149,
   "id": "23b2dd0f-4d94-4217-8620-a357617c5394",
   "metadata": {},
   "outputs": [
    {
     "data": {
      "text/plain": [
       "9"
      ]
     },
     "execution_count": 149,
     "metadata": {},
     "output_type": "execute_result"
    }
   ],
   "source": [
    "date1.isocalendar().week"
   ]
  },
  {
   "cell_type": "markdown",
   "id": "9229fe11-4537-4687-bed2-069633f3705c",
   "metadata": {},
   "source": [
    "#### Print a date in a the following format"
   ]
  },
  {
   "cell_type": "markdown",
   "id": "9077aec4-0318-4030-95dc-22e3b2704ccc",
   "metadata": {},
   "source": [
    "`Day_name  Day_number  Month_name  Year`"
   ]
  },
  {
   "cell_type": "code",
   "execution_count": 150,
   "id": "32dab5be-1af7-4f5f-8d1b-8220bad2dd44",
   "metadata": {},
   "outputs": [],
   "source": [
    "#from datetime import datetime\n",
    "given_date = datetime(2020, 2, 25)"
   ]
  },
  {
   "cell_type": "markdown",
   "id": "37d7849b-f0ab-4fe5-aca0-61a5e059c7a1",
   "metadata": {},
   "source": [
    "Expected Outcome: `Tuesday 25 February 2020`"
   ]
  },
  {
   "cell_type": "code",
   "execution_count": 151,
   "id": "aa9b4bb5-5183-4b9f-8273-2c03cfe45b92",
   "metadata": {},
   "outputs": [
    {
     "name": "stdout",
     "output_type": "stream",
     "text": [
      "Tuesday 25 February 2020\n"
     ]
    }
   ],
   "source": [
    "print(given_date.strftime(format = '%A %d %B %Y'))"
   ]
  },
  {
   "cell_type": "markdown",
   "id": "0d0939db-c437-4f6e-adf3-3d8ce3db763f",
   "metadata": {},
   "source": [
    "#### Find the day of the week of a given date"
   ]
  },
  {
   "cell_type": "code",
   "execution_count": 152,
   "id": "613e6577-776a-4238-8f77-7d77e79eef36",
   "metadata": {},
   "outputs": [],
   "source": [
    "given_date = datetime(2020, 7, 26)"
   ]
  },
  {
   "cell_type": "markdown",
   "id": "01b73274-adec-4aee-91eb-466c13edac0e",
   "metadata": {},
   "source": [
    "Expected Outcome: `Sunday`"
   ]
  },
  {
   "cell_type": "code",
   "execution_count": 153,
   "id": "aca9d495-2f11-498c-bfdb-b77121f1b9c2",
   "metadata": {},
   "outputs": [
    {
     "name": "stdout",
     "output_type": "stream",
     "text": [
      "Sunday\n"
     ]
    }
   ],
   "source": [
    "print(given_date.strftime(format = '%A'))"
   ]
  },
  {
   "cell_type": "markdown",
   "id": "2ace26f6-4769-40b9-ad09-afc0c5db32b6",
   "metadata": {},
   "source": [
    "#### Convert the following datetime into a string"
   ]
  },
  {
   "cell_type": "code",
   "execution_count": 154,
   "id": "2dc93646-c39e-4c9d-a1dc-c40b6feae141",
   "metadata": {},
   "outputs": [],
   "source": [
    "given_date = datetime(2020, 2, 25)"
   ]
  },
  {
   "cell_type": "markdown",
   "id": "a883d0d8-13cb-4016-b620-b244cb3bfd5e",
   "metadata": {},
   "source": [
    "Expected Outcome: `\"2020-02-25 00:00:00\"`"
   ]
  },
  {
   "cell_type": "code",
   "execution_count": 155,
   "id": "9d19f40e-d302-4f56-83b9-f091dd3ac9be",
   "metadata": {},
   "outputs": [
    {
     "name": "stdout",
     "output_type": "stream",
     "text": [
      "2020-02-25 00:00:00\n"
     ]
    }
   ],
   "source": [
    "date_str = given_date.isoformat(' ')\n",
    "print(date_str)"
   ]
  },
  {
   "cell_type": "markdown",
   "id": "01978fcc-d462-4979-95ba-a9f73782dbe0",
   "metadata": {},
   "source": [
    "#### Calculate the date 4 months from the current date"
   ]
  },
  {
   "cell_type": "code",
   "execution_count": 156,
   "id": "19a0ff84-2c1a-47e1-8301-467fb293c491",
   "metadata": {},
   "outputs": [],
   "source": [
    "given_date = datetime(2020, 2, 25).date()"
   ]
  },
  {
   "cell_type": "markdown",
   "id": "05a801d0-d615-4926-a2b1-a2d04250619a",
   "metadata": {},
   "source": [
    "Expected Outcome: `2020-06-25`"
   ]
  },
  {
   "cell_type": "code",
   "execution_count": 157,
   "id": "aed12955-7d23-421b-9d50-16a7d37a32bf",
   "metadata": {},
   "outputs": [],
   "source": [
    "from dateutil.relativedelta import relativedelta"
   ]
  },
  {
   "cell_type": "code",
   "execution_count": 809,
   "id": "be37f59c-9954-4b99-815a-9514427bad49",
   "metadata": {},
   "outputs": [
    {
     "name": "stdout",
     "output_type": "stream",
     "text": [
      "2020-06-25\n"
     ]
    }
   ],
   "source": [
    "next_date = given_date + relativedelta(months = 4)\n",
    "print(next_date)"
   ]
  }
 ],
 "metadata": {
  "kernelspec": {
   "display_name": "Python 3 (ipykernel)",
   "language": "python",
   "name": "python3"
  },
  "language_info": {
   "codemirror_mode": {
    "name": "ipython",
    "version": 3
   },
   "file_extension": ".py",
   "mimetype": "text/x-python",
   "name": "python",
   "nbconvert_exporter": "python",
   "pygments_lexer": "ipython3",
   "version": "3.9.13"
  },
  "toc-autonumbering": true
 },
 "nbformat": 4,
 "nbformat_minor": 5
}
